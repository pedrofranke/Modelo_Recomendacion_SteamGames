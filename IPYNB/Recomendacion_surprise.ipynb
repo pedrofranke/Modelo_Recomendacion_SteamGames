{
 "cells": [
  {
   "cell_type": "markdown",
   "metadata": {},
   "source": [
    "# Prueba de desarrollo"
   ]
  },
  {
   "cell_type": "markdown",
   "metadata": {},
   "source": [
    "## Preparacion datasets"
   ]
  },
  {
   "cell_type": "code",
   "execution_count": 204,
   "metadata": {},
   "outputs": [],
   "source": [
    "import pandas as pd\n",
    "import numpy as np\n",
    "import surprise as sp "
   ]
  },
  {
   "cell_type": "code",
   "execution_count": 205,
   "metadata": {},
   "outputs": [
    {
     "data": {
      "text/html": [
       "<div>\n",
       "<style scoped>\n",
       "    .dataframe tbody tr th:only-of-type {\n",
       "        vertical-align: middle;\n",
       "    }\n",
       "\n",
       "    .dataframe tbody tr th {\n",
       "        vertical-align: top;\n",
       "    }\n",
       "\n",
       "    .dataframe thead th {\n",
       "        text-align: right;\n",
       "    }\n",
       "</style>\n",
       "<table border=\"1\" class=\"dataframe\">\n",
       "  <thead>\n",
       "    <tr style=\"text-align: right;\">\n",
       "      <th></th>\n",
       "      <th>user_id</th>\n",
       "      <th>item_id</th>\n",
       "      <th>puntaje</th>\n",
       "      <th>item_name</th>\n",
       "    </tr>\n",
       "  </thead>\n",
       "  <tbody>\n",
       "    <tr>\n",
       "      <th>0</th>\n",
       "      <td>76561197970982479</td>\n",
       "      <td>1250</td>\n",
       "      <td>4</td>\n",
       "      <td>Killing Floor</td>\n",
       "    </tr>\n",
       "    <tr>\n",
       "      <th>1</th>\n",
       "      <td>76561197970982479</td>\n",
       "      <td>22200</td>\n",
       "      <td>6</td>\n",
       "      <td>Zeno Clash</td>\n",
       "    </tr>\n",
       "    <tr>\n",
       "      <th>2</th>\n",
       "      <td>76561197970982479</td>\n",
       "      <td>43110</td>\n",
       "      <td>4</td>\n",
       "      <td>Metro 2033</td>\n",
       "    </tr>\n",
       "    <tr>\n",
       "      <th>3</th>\n",
       "      <td>js41637</td>\n",
       "      <td>251610</td>\n",
       "      <td>4</td>\n",
       "      <td>Barbie™ Dreamhouse Party™</td>\n",
       "    </tr>\n",
       "    <tr>\n",
       "      <th>4</th>\n",
       "      <td>js41637</td>\n",
       "      <td>227300</td>\n",
       "      <td>4</td>\n",
       "      <td>Euro Truck Simulator 2</td>\n",
       "    </tr>\n",
       "    <tr>\n",
       "      <th>...</th>\n",
       "      <td>...</td>\n",
       "      <td>...</td>\n",
       "      <td>...</td>\n",
       "      <td>...</td>\n",
       "    </tr>\n",
       "    <tr>\n",
       "      <th>51986</th>\n",
       "      <td>76561198312638244</td>\n",
       "      <td>130</td>\n",
       "      <td>4</td>\n",
       "      <td>Half-Life: Blue Shift</td>\n",
       "    </tr>\n",
       "    <tr>\n",
       "      <th>51987</th>\n",
       "      <td>76561198312638244</td>\n",
       "      <td>70</td>\n",
       "      <td>6</td>\n",
       "      <td>Half-Life</td>\n",
       "    </tr>\n",
       "    <tr>\n",
       "      <th>51988</th>\n",
       "      <td>76561198312638244</td>\n",
       "      <td>362890</td>\n",
       "      <td>4</td>\n",
       "      <td>Black Mesa</td>\n",
       "    </tr>\n",
       "    <tr>\n",
       "      <th>51989</th>\n",
       "      <td>LydiaMorley</td>\n",
       "      <td>273110</td>\n",
       "      <td>4</td>\n",
       "      <td>Counter-Strike Nexon: Zombies</td>\n",
       "    </tr>\n",
       "    <tr>\n",
       "      <th>51990</th>\n",
       "      <td>LydiaMorley</td>\n",
       "      <td>730</td>\n",
       "      <td>6</td>\n",
       "      <td>Counter-Strike: Global Offensive</td>\n",
       "    </tr>\n",
       "  </tbody>\n",
       "</table>\n",
       "<p>51991 rows × 4 columns</p>\n",
       "</div>"
      ],
      "text/plain": [
       "                 user_id item_id  puntaje                         item_name\n",
       "0      76561197970982479    1250        4                     Killing Floor\n",
       "1      76561197970982479   22200        6                        Zeno Clash\n",
       "2      76561197970982479   43110        4                        Metro 2033\n",
       "3                js41637  251610        4         Barbie™ Dreamhouse Party™\n",
       "4                js41637  227300        4            Euro Truck Simulator 2\n",
       "...                  ...     ...      ...                               ...\n",
       "51986  76561198312638244     130        4             Half-Life: Blue Shift\n",
       "51987  76561198312638244      70        6                         Half-Life\n",
       "51988  76561198312638244  362890        4                        Black Mesa\n",
       "51989        LydiaMorley  273110        4     Counter-Strike Nexon: Zombies\n",
       "51990        LydiaMorley     730        6  Counter-Strike: Global Offensive\n",
       "\n",
       "[51991 rows x 4 columns]"
      ]
     },
     "execution_count": 205,
     "metadata": {},
     "output_type": "execute_result"
    }
   ],
   "source": [
    "df = pd.read_parquet('../Datasets/parquet/Recomendacion/recomendacion.parquet')\n",
    "\n",
    "df"
   ]
  },
  {
   "cell_type": "code",
   "execution_count": 206,
   "metadata": {},
   "outputs": [
    {
     "data": {
      "text/html": [
       "<div>\n",
       "<style scoped>\n",
       "    .dataframe tbody tr th:only-of-type {\n",
       "        vertical-align: middle;\n",
       "    }\n",
       "\n",
       "    .dataframe tbody tr th {\n",
       "        vertical-align: top;\n",
       "    }\n",
       "\n",
       "    .dataframe thead th {\n",
       "        text-align: right;\n",
       "    }\n",
       "</style>\n",
       "<table border=\"1\" class=\"dataframe\">\n",
       "  <thead>\n",
       "    <tr style=\"text-align: right;\">\n",
       "      <th></th>\n",
       "      <th>item_id</th>\n",
       "      <th>puntaje</th>\n",
       "      <th>user_id</th>\n",
       "    </tr>\n",
       "  </thead>\n",
       "  <tbody>\n",
       "    <tr>\n",
       "      <th>0</th>\n",
       "      <td>1250</td>\n",
       "      <td>4</td>\n",
       "      <td>76561197970982479</td>\n",
       "    </tr>\n",
       "    <tr>\n",
       "      <th>1</th>\n",
       "      <td>22200</td>\n",
       "      <td>6</td>\n",
       "      <td>76561197970982479</td>\n",
       "    </tr>\n",
       "    <tr>\n",
       "      <th>2</th>\n",
       "      <td>43110</td>\n",
       "      <td>4</td>\n",
       "      <td>76561197970982479</td>\n",
       "    </tr>\n",
       "    <tr>\n",
       "      <th>3</th>\n",
       "      <td>251610</td>\n",
       "      <td>4</td>\n",
       "      <td>js41637</td>\n",
       "    </tr>\n",
       "    <tr>\n",
       "      <th>4</th>\n",
       "      <td>227300</td>\n",
       "      <td>4</td>\n",
       "      <td>js41637</td>\n",
       "    </tr>\n",
       "    <tr>\n",
       "      <th>...</th>\n",
       "      <td>...</td>\n",
       "      <td>...</td>\n",
       "      <td>...</td>\n",
       "    </tr>\n",
       "    <tr>\n",
       "      <th>51986</th>\n",
       "      <td>130</td>\n",
       "      <td>4</td>\n",
       "      <td>76561198312638244</td>\n",
       "    </tr>\n",
       "    <tr>\n",
       "      <th>51987</th>\n",
       "      <td>70</td>\n",
       "      <td>6</td>\n",
       "      <td>76561198312638244</td>\n",
       "    </tr>\n",
       "    <tr>\n",
       "      <th>51988</th>\n",
       "      <td>362890</td>\n",
       "      <td>4</td>\n",
       "      <td>76561198312638244</td>\n",
       "    </tr>\n",
       "    <tr>\n",
       "      <th>51989</th>\n",
       "      <td>273110</td>\n",
       "      <td>4</td>\n",
       "      <td>LydiaMorley</td>\n",
       "    </tr>\n",
       "    <tr>\n",
       "      <th>51990</th>\n",
       "      <td>730</td>\n",
       "      <td>6</td>\n",
       "      <td>LydiaMorley</td>\n",
       "    </tr>\n",
       "  </tbody>\n",
       "</table>\n",
       "<p>51991 rows × 3 columns</p>\n",
       "</div>"
      ],
      "text/plain": [
       "      item_id  puntaje            user_id\n",
       "0        1250        4  76561197970982479\n",
       "1       22200        6  76561197970982479\n",
       "2       43110        4  76561197970982479\n",
       "3      251610        4            js41637\n",
       "4      227300        4            js41637\n",
       "...       ...      ...                ...\n",
       "51986     130        4  76561198312638244\n",
       "51987      70        6  76561198312638244\n",
       "51988  362890        4  76561198312638244\n",
       "51989  273110        4        LydiaMorley\n",
       "51990     730        6        LydiaMorley\n",
       "\n",
       "[51991 rows x 3 columns]"
      ]
     },
     "execution_count": 206,
     "metadata": {},
     "output_type": "execute_result"
    }
   ],
   "source": [
    "df_ratings = df[['item_id','puntaje','user_id']]\n",
    "df_ratings"
   ]
  },
  {
   "cell_type": "code",
   "execution_count": 207,
   "metadata": {},
   "outputs": [
    {
     "data": {
      "text/html": [
       "<div>\n",
       "<style scoped>\n",
       "    .dataframe tbody tr th:only-of-type {\n",
       "        vertical-align: middle;\n",
       "    }\n",
       "\n",
       "    .dataframe tbody tr th {\n",
       "        vertical-align: top;\n",
       "    }\n",
       "\n",
       "    .dataframe thead th {\n",
       "        text-align: right;\n",
       "    }\n",
       "</style>\n",
       "<table border=\"1\" class=\"dataframe\">\n",
       "  <thead>\n",
       "    <tr style=\"text-align: right;\">\n",
       "      <th></th>\n",
       "      <th>itemID</th>\n",
       "      <th>rating</th>\n",
       "      <th>userID</th>\n",
       "    </tr>\n",
       "  </thead>\n",
       "  <tbody>\n",
       "    <tr>\n",
       "      <th>0</th>\n",
       "      <td>1250</td>\n",
       "      <td>4</td>\n",
       "      <td>76561197970982479</td>\n",
       "    </tr>\n",
       "    <tr>\n",
       "      <th>1</th>\n",
       "      <td>22200</td>\n",
       "      <td>6</td>\n",
       "      <td>76561197970982479</td>\n",
       "    </tr>\n",
       "    <tr>\n",
       "      <th>2</th>\n",
       "      <td>43110</td>\n",
       "      <td>4</td>\n",
       "      <td>76561197970982479</td>\n",
       "    </tr>\n",
       "    <tr>\n",
       "      <th>3</th>\n",
       "      <td>251610</td>\n",
       "      <td>4</td>\n",
       "      <td>js41637</td>\n",
       "    </tr>\n",
       "    <tr>\n",
       "      <th>4</th>\n",
       "      <td>227300</td>\n",
       "      <td>4</td>\n",
       "      <td>js41637</td>\n",
       "    </tr>\n",
       "    <tr>\n",
       "      <th>...</th>\n",
       "      <td>...</td>\n",
       "      <td>...</td>\n",
       "      <td>...</td>\n",
       "    </tr>\n",
       "    <tr>\n",
       "      <th>51986</th>\n",
       "      <td>130</td>\n",
       "      <td>4</td>\n",
       "      <td>76561198312638244</td>\n",
       "    </tr>\n",
       "    <tr>\n",
       "      <th>51987</th>\n",
       "      <td>70</td>\n",
       "      <td>6</td>\n",
       "      <td>76561198312638244</td>\n",
       "    </tr>\n",
       "    <tr>\n",
       "      <th>51988</th>\n",
       "      <td>362890</td>\n",
       "      <td>4</td>\n",
       "      <td>76561198312638244</td>\n",
       "    </tr>\n",
       "    <tr>\n",
       "      <th>51989</th>\n",
       "      <td>273110</td>\n",
       "      <td>4</td>\n",
       "      <td>LydiaMorley</td>\n",
       "    </tr>\n",
       "    <tr>\n",
       "      <th>51990</th>\n",
       "      <td>730</td>\n",
       "      <td>6</td>\n",
       "      <td>LydiaMorley</td>\n",
       "    </tr>\n",
       "  </tbody>\n",
       "</table>\n",
       "<p>51991 rows × 3 columns</p>\n",
       "</div>"
      ],
      "text/plain": [
       "       itemID  rating             userID\n",
       "0        1250       4  76561197970982479\n",
       "1       22200       6  76561197970982479\n",
       "2       43110       4  76561197970982479\n",
       "3      251610       4            js41637\n",
       "4      227300       4            js41637\n",
       "...       ...     ...                ...\n",
       "51986     130       4  76561198312638244\n",
       "51987      70       6  76561198312638244\n",
       "51988  362890       4  76561198312638244\n",
       "51989  273110       4        LydiaMorley\n",
       "51990     730       6        LydiaMorley\n",
       "\n",
       "[51991 rows x 3 columns]"
      ]
     },
     "execution_count": 207,
     "metadata": {},
     "output_type": "execute_result"
    }
   ],
   "source": [
    "df_ratings.columns = ['itemID','rating','userID']\n",
    "df_ratings"
   ]
  },
  {
   "cell_type": "code",
   "execution_count": 208,
   "metadata": {},
   "outputs": [],
   "source": [
    "reader = sp.Reader(rating_scale=(1,6))"
   ]
  },
  {
   "cell_type": "code",
   "execution_count": 209,
   "metadata": {},
   "outputs": [],
   "source": [
    "data = sp.Dataset.load_from_df(df_ratings[[\"userID\", \"itemID\", \"rating\"]], reader)"
   ]
  },
  {
   "cell_type": "code",
   "execution_count": 210,
   "metadata": {},
   "outputs": [],
   "source": [
    "trainset, _ = sp.model_selection.train_test_split(data, test_size=.000000001,random_state=43)\n",
    "trainset2, _ = sp.model_selection.train_test_split(data, test_size=.000000001,random_state=10)"
   ]
  },
  {
   "cell_type": "markdown",
   "metadata": {},
   "source": [
    "## Desarrollo recomendacion_usuario"
   ]
  },
  {
   "cell_type": "code",
   "execution_count": 211,
   "metadata": {},
   "outputs": [],
   "source": [
    "model = sp.SVD()"
   ]
  },
  {
   "cell_type": "code",
   "execution_count": 212,
   "metadata": {},
   "outputs": [
    {
     "data": {
      "text/plain": [
       "<surprise.prediction_algorithms.matrix_factorization.SVD at 0x26c28eae810>"
      ]
     },
     "execution_count": 212,
     "metadata": {},
     "output_type": "execute_result"
    }
   ],
   "source": [
    "model.fit(trainset)"
   ]
  },
  {
   "cell_type": "code",
   "execution_count": 214,
   "metadata": {},
   "outputs": [],
   "source": [
    "df_titles = pd.read_parquet('../Datasets/parquet/Recomendacion/Final/diccionario_juegos.parquet')"
   ]
  },
  {
   "cell_type": "code",
   "execution_count": 215,
   "metadata": {},
   "outputs": [],
   "source": [
    "df_titles.columns = ['itemID','itemName']"
   ]
  },
  {
   "cell_type": "code",
   "execution_count": 216,
   "metadata": {},
   "outputs": [
    {
     "data": {
      "text/html": [
       "<div>\n",
       "<style scoped>\n",
       "    .dataframe tbody tr th:only-of-type {\n",
       "        vertical-align: middle;\n",
       "    }\n",
       "\n",
       "    .dataframe tbody tr th {\n",
       "        vertical-align: top;\n",
       "    }\n",
       "\n",
       "    .dataframe thead th {\n",
       "        text-align: right;\n",
       "    }\n",
       "</style>\n",
       "<table border=\"1\" class=\"dataframe\">\n",
       "  <thead>\n",
       "    <tr style=\"text-align: right;\">\n",
       "      <th></th>\n",
       "      <th>itemID</th>\n",
       "      <th>rating</th>\n",
       "      <th>userID</th>\n",
       "    </tr>\n",
       "  </thead>\n",
       "  <tbody>\n",
       "    <tr>\n",
       "      <th>34302</th>\n",
       "      <td>730</td>\n",
       "      <td>4</td>\n",
       "      <td>00True</td>\n",
       "    </tr>\n",
       "    <tr>\n",
       "      <th>34303</th>\n",
       "      <td>221100</td>\n",
       "      <td>6</td>\n",
       "      <td>00True</td>\n",
       "    </tr>\n",
       "  </tbody>\n",
       "</table>\n",
       "</div>"
      ],
      "text/plain": [
       "       itemID  rating  userID\n",
       "34302     730       4  00True\n",
       "34303  221100       6  00True"
      ]
     },
     "execution_count": 216,
     "metadata": {},
     "output_type": "execute_result"
    }
   ],
   "source": [
    "usuario = '00True'\n",
    "usuario_vistas = df_ratings[df_ratings['userID'] == usuario]\n",
    "usuario_vistas"
   ]
  },
  {
   "cell_type": "code",
   "execution_count": 217,
   "metadata": {},
   "outputs": [
    {
     "name": "stderr",
     "output_type": "stream",
     "text": [
      "C:\\Users\\pedro\\AppData\\Local\\Temp\\ipykernel_23220\\944485059.py:1: SettingWithCopyWarning: \n",
      "A value is trying to be set on a copy of a slice from a DataFrame.\n",
      "Try using .loc[row_indexer,col_indexer] = value instead\n",
      "\n",
      "See the caveats in the documentation: https://pandas.pydata.org/pandas-docs/stable/user_guide/indexing.html#returning-a-view-versus-a-copy\n",
      "  usuario_vistas['itemID'] = usuario_vistas.itemID.apply(int)\n"
     ]
    }
   ],
   "source": [
    "usuario_vistas['itemID'] = usuario_vistas.itemID.apply(int)"
   ]
  },
  {
   "cell_type": "code",
   "execution_count": 219,
   "metadata": {},
   "outputs": [
    {
     "data": {
      "text/html": [
       "<div>\n",
       "<style scoped>\n",
       "    .dataframe tbody tr th:only-of-type {\n",
       "        vertical-align: middle;\n",
       "    }\n",
       "\n",
       "    .dataframe tbody tr th {\n",
       "        vertical-align: top;\n",
       "    }\n",
       "\n",
       "    .dataframe thead th {\n",
       "        text-align: right;\n",
       "    }\n",
       "</style>\n",
       "<table border=\"1\" class=\"dataframe\">\n",
       "  <thead>\n",
       "    <tr style=\"text-align: right;\">\n",
       "      <th></th>\n",
       "      <th>itemID</th>\n",
       "      <th>itemName</th>\n",
       "    </tr>\n",
       "  </thead>\n",
       "  <tbody>\n",
       "    <tr>\n",
       "      <th>0</th>\n",
       "      <td>1250</td>\n",
       "      <td>Killing Floor</td>\n",
       "    </tr>\n",
       "    <tr>\n",
       "      <th>1</th>\n",
       "      <td>22200</td>\n",
       "      <td>Zeno Clash</td>\n",
       "    </tr>\n",
       "    <tr>\n",
       "      <th>2</th>\n",
       "      <td>43110</td>\n",
       "      <td>Metro 2033</td>\n",
       "    </tr>\n",
       "    <tr>\n",
       "      <th>3</th>\n",
       "      <td>251610</td>\n",
       "      <td>Barbie™ Dreamhouse Party™</td>\n",
       "    </tr>\n",
       "    <tr>\n",
       "      <th>4</th>\n",
       "      <td>227300</td>\n",
       "      <td>Euro Truck Simulator 2</td>\n",
       "    </tr>\n",
       "  </tbody>\n",
       "</table>\n",
       "</div>"
      ],
      "text/plain": [
       "   itemID                   itemName\n",
       "0    1250              Killing Floor\n",
       "1   22200                 Zeno Clash\n",
       "2   43110                 Metro 2033\n",
       "3  251610  Barbie™ Dreamhouse Party™\n",
       "4  227300     Euro Truck Simulator 2"
      ]
     },
     "execution_count": 219,
     "metadata": {},
     "output_type": "execute_result"
    }
   ],
   "source": [
    "recomendaciones_usuario = df_titles.copy()\n",
    "\n",
    "recomendaciones_usuario = recomendaciones_usuario[~recomendaciones_usuario.itemID.isin(usuario_vistas.itemID.values)]\n",
    "recomendaciones_usuario = recomendaciones_usuario.reset_index(drop=True)\n",
    "recomendaciones_usuario.head()"
   ]
  },
  {
   "cell_type": "code",
   "execution_count": 220,
   "metadata": {},
   "outputs": [],
   "source": [
    "recomendaciones_usuario['Estimate_byuser_Score'] = recomendaciones_usuario['itemID'].apply(lambda x: model.predict(usuario, x).est)"
   ]
  },
  {
   "cell_type": "code",
   "execution_count": 221,
   "metadata": {},
   "outputs": [
    {
     "name": "stdout",
     "output_type": "stream",
     "text": [
      "      itemID                            itemName  Estimate_byuser_Score\n",
      "0       1250                       Killing Floor               4.461917\n",
      "2217  320040                        Moon Hunters               4.461917\n",
      "2207    6210                  Vegas: Make It Big               4.461917\n",
      "2208  317040             Strife: Veteran Edition               4.461917\n",
      "2209    3900         Sid Meier's Civilization IV               4.461917\n",
      "2210  373360  Cast of the Seven Godsends - Redux               4.461917\n",
      "2211  237590                  R.I.P.D.: The Game               4.461917\n",
      "2212  209520               Mini Motor Racing EVO               4.461917\n",
      "2213  423840                           BanHammer               4.461917\n",
      "2214  444190         Princess Edge - Dragonstone               4.461917\n"
     ]
    }
   ],
   "source": [
    "recomendaciones_usuario = recomendaciones_usuario.sort_values(f'Estimate_byuser_Score', ascending=False)\n",
    "print(recomendaciones_usuario.head(10))"
   ]
  },
  {
   "cell_type": "code",
   "execution_count": 223,
   "metadata": {},
   "outputs": [
    {
     "data": {
      "text/html": [
       "<div>\n",
       "<style scoped>\n",
       "    .dataframe tbody tr th:only-of-type {\n",
       "        vertical-align: middle;\n",
       "    }\n",
       "\n",
       "    .dataframe tbody tr th {\n",
       "        vertical-align: top;\n",
       "    }\n",
       "\n",
       "    .dataframe thead th {\n",
       "        text-align: right;\n",
       "    }\n",
       "</style>\n",
       "<table border=\"1\" class=\"dataframe\">\n",
       "  <thead>\n",
       "    <tr style=\"text-align: right;\">\n",
       "      <th></th>\n",
       "      <th>itemID</th>\n",
       "      <th>itemName</th>\n",
       "      <th>Estimate_byuser_Score</th>\n",
       "    </tr>\n",
       "  </thead>\n",
       "  <tbody>\n",
       "    <tr>\n",
       "      <th>2119</th>\n",
       "      <td>9880</td>\n",
       "      <td>Champions Online</td>\n",
       "      <td>4.461917</td>\n",
       "    </tr>\n",
       "    <tr>\n",
       "      <th>28</th>\n",
       "      <td>4000</td>\n",
       "      <td>Garry's Mod</td>\n",
       "      <td>4.461917</td>\n",
       "    </tr>\n",
       "    <tr>\n",
       "      <th>25</th>\n",
       "      <td>72850</td>\n",
       "      <td>The Elder Scrolls V: Skyrim</td>\n",
       "      <td>4.461917</td>\n",
       "    </tr>\n",
       "    <tr>\n",
       "      <th>21</th>\n",
       "      <td>249130</td>\n",
       "      <td>LEGO® MARVEL Super Heroes</td>\n",
       "      <td>4.461917</td>\n",
       "    </tr>\n",
       "    <tr>\n",
       "      <th>58</th>\n",
       "      <td>105600</td>\n",
       "      <td>Terraria</td>\n",
       "      <td>4.461917</td>\n",
       "    </tr>\n",
       "  </tbody>\n",
       "</table>\n",
       "</div>"
      ],
      "text/plain": [
       "      itemID                     itemName  Estimate_byuser_Score\n",
       "2119    9880             Champions Online               4.461917\n",
       "28      4000                  Garry's Mod               4.461917\n",
       "25     72850  The Elder Scrolls V: Skyrim               4.461917\n",
       "21    249130    LEGO® MARVEL Super Heroes               4.461917\n",
       "58    105600                     Terraria               4.461917"
      ]
     },
     "execution_count": 223,
     "metadata": {},
     "output_type": "execute_result"
    }
   ],
   "source": [
    "recomendaciones_usuario[recomendaciones_usuario['itemID'].isin([4000,72850,9880,249130,105600])]"
   ]
  },
  {
   "cell_type": "markdown",
   "metadata": {},
   "source": [
    "## Desarrollo Recomendacion item"
   ]
  },
  {
   "cell_type": "code",
   "execution_count": 237,
   "metadata": {},
   "outputs": [
    {
     "name": "stdout",
     "output_type": "stream",
     "text": [
      "Computing the cosine similarity matrix...\n",
      "Done computing similarity matrix.\n"
     ]
    },
    {
     "data": {
      "text/plain": [
       "<surprise.prediction_algorithms.knns.KNNBasic at 0x26c2a59e890>"
      ]
     },
     "execution_count": 237,
     "metadata": {},
     "output_type": "execute_result"
    }
   ],
   "source": [
    "item = 1250\n",
    "sim_options = {\n",
    "    'name': 'cosine',\n",
    "    'user_based': False  # Indica que es basado en ítems\n",
    "}\n",
    "\n",
    "model_item_based = sp.KNNBasic(sim_options=sim_options)\n",
    "model_item_based.fit(trainset)\n"
   ]
  },
  {
   "cell_type": "code",
   "execution_count": 277,
   "metadata": {},
   "outputs": [],
   "source": [
    "def get_item_neighbors(item):\n",
    "    try:\n",
    "        iid = trainset.to_inner_iid(str(item))\n",
    "        similar_items = model_item_based.get_neighbors(iid, k=5)\n",
    "        result = []\n",
    "        for i in similar_items:\n",
    "            rid = trainset.to_raw_iid(i)\n",
    "            rname = df_titles[df_titles.itemID == int(rid)].itemID.values\n",
    "            result.append(rname[0])\n",
    "        return result\n",
    "    except:\n",
    "        iid = trainset2.to_inner_iid(str(item))\n",
    "        similar_items = model_item_based.get_neighbors(iid, k=5)\n",
    "        result = []\n",
    "        for i in similar_items:\n",
    "            rid = trainset2.to_raw_iid(i)\n",
    "            rname = df_titles[df_titles.itemID == int(rid)].itemID.values\n",
    "            result.append(rname[0])\n",
    "        return result"
   ]
  },
  {
   "cell_type": "code",
   "execution_count": 278,
   "metadata": {},
   "outputs": [],
   "source": [
    "# Obtener ítems similares (top 5)\n",
    "recomendaciones_usuario['itemRecomendation'] = recomendaciones_usuario.itemID.apply(get_item_neighbors)\n",
    "\n",
    "#print(df_titles[df_titles.itemID.isin(similar_items)])"
   ]
  },
  {
   "cell_type": "code",
   "execution_count": 279,
   "metadata": {},
   "outputs": [
    {
     "data": {
      "text/html": [
       "<div>\n",
       "<style scoped>\n",
       "    .dataframe tbody tr th:only-of-type {\n",
       "        vertical-align: middle;\n",
       "    }\n",
       "\n",
       "    .dataframe tbody tr th {\n",
       "        vertical-align: top;\n",
       "    }\n",
       "\n",
       "    .dataframe thead th {\n",
       "        text-align: right;\n",
       "    }\n",
       "</style>\n",
       "<table border=\"1\" class=\"dataframe\">\n",
       "  <thead>\n",
       "    <tr style=\"text-align: right;\">\n",
       "      <th></th>\n",
       "      <th>itemID</th>\n",
       "      <th>itemName</th>\n",
       "      <th>Estimate_byuser_Score</th>\n",
       "      <th>itemRecomendation</th>\n",
       "    </tr>\n",
       "  </thead>\n",
       "  <tbody>\n",
       "  </tbody>\n",
       "</table>\n",
       "</div>"
      ],
      "text/plain": [
       "Empty DataFrame\n",
       "Columns: [itemID, itemName, Estimate_byuser_Score, itemRecomendation]\n",
       "Index: []"
      ]
     },
     "execution_count": 279,
     "metadata": {},
     "output_type": "execute_result"
    }
   ],
   "source": [
    "recomendaciones_usuario[recomendaciones_usuario.itemRecomendation == 'Error']"
   ]
  },
  {
   "cell_type": "code",
   "execution_count": 280,
   "metadata": {},
   "outputs": [
    {
     "data": {
      "text/html": [
       "<div>\n",
       "<style scoped>\n",
       "    .dataframe tbody tr th:only-of-type {\n",
       "        vertical-align: middle;\n",
       "    }\n",
       "\n",
       "    .dataframe tbody tr th {\n",
       "        vertical-align: top;\n",
       "    }\n",
       "\n",
       "    .dataframe thead th {\n",
       "        text-align: right;\n",
       "    }\n",
       "</style>\n",
       "<table border=\"1\" class=\"dataframe\">\n",
       "  <thead>\n",
       "    <tr style=\"text-align: right;\">\n",
       "      <th></th>\n",
       "      <th>itemID</th>\n",
       "      <th>itemName</th>\n",
       "      <th>Estimate_byuser_Score</th>\n",
       "      <th>itemRecomendation</th>\n",
       "    </tr>\n",
       "  </thead>\n",
       "  <tbody>\n",
       "    <tr>\n",
       "      <th>0</th>\n",
       "      <td>1250</td>\n",
       "      <td>Killing Floor</td>\n",
       "      <td>4.461917</td>\n",
       "      <td>[8870, 31220, 417860, 238460, 253430]</td>\n",
       "    </tr>\n",
       "    <tr>\n",
       "      <th>2217</th>\n",
       "      <td>320040</td>\n",
       "      <td>Moon Hunters</td>\n",
       "      <td>4.461917</td>\n",
       "      <td>[24240, 211820, 620, 377160, 65800]</td>\n",
       "    </tr>\n",
       "    <tr>\n",
       "      <th>2207</th>\n",
       "      <td>6210</td>\n",
       "      <td>Vegas: Make It Big</td>\n",
       "      <td>4.461917</td>\n",
       "      <td>[289130, 271590, 222880, 99900, 730]</td>\n",
       "    </tr>\n",
       "    <tr>\n",
       "      <th>2208</th>\n",
       "      <td>317040</td>\n",
       "      <td>Strife: Veteran Edition</td>\n",
       "      <td>4.461917</td>\n",
       "      <td>[218620, 8930, 374570, 233130, 365660]</td>\n",
       "    </tr>\n",
       "    <tr>\n",
       "      <th>2209</th>\n",
       "      <td>3900</td>\n",
       "      <td>Sid Meier's Civilization IV</td>\n",
       "      <td>4.461917</td>\n",
       "      <td>[105600, 208090, 221640, 234190, 212680]</td>\n",
       "    </tr>\n",
       "    <tr>\n",
       "      <th>...</th>\n",
       "      <td>...</td>\n",
       "      <td>...</td>\n",
       "      <td>...</td>\n",
       "      <td>...</td>\n",
       "    </tr>\n",
       "    <tr>\n",
       "      <th>1109</th>\n",
       "      <td>229580</td>\n",
       "      <td>Dream</td>\n",
       "      <td>4.461917</td>\n",
       "      <td>[730, 218620, 49520, 238320, 72200]</td>\n",
       "    </tr>\n",
       "    <tr>\n",
       "      <th>1110</th>\n",
       "      <td>329830</td>\n",
       "      <td>The Moon Sliver</td>\n",
       "      <td>4.461917</td>\n",
       "      <td>[238320, 72200, 229580, 242760, 305620]</td>\n",
       "    </tr>\n",
       "    <tr>\n",
       "      <th>1111</th>\n",
       "      <td>413420</td>\n",
       "      <td>Danganronpa 2: Goodbye Despair</td>\n",
       "      <td>4.461917</td>\n",
       "      <td>[730, 250320, 48700, 292030, 289130]</td>\n",
       "    </tr>\n",
       "    <tr>\n",
       "      <th>1112</th>\n",
       "      <td>34030</td>\n",
       "      <td>Napoleon: Total War</td>\n",
       "      <td>4.461917</td>\n",
       "      <td>[271590, 200210, 24240, 221100, 304930]</td>\n",
       "    </tr>\n",
       "    <tr>\n",
       "      <th>3318</th>\n",
       "      <td>431510</td>\n",
       "      <td>Mystic Destinies: Serendipity of Aeons</td>\n",
       "      <td>4.461917</td>\n",
       "      <td>[413150, 289130, 271590, 222880, 99900]</td>\n",
       "    </tr>\n",
       "  </tbody>\n",
       "</table>\n",
       "<p>3319 rows × 4 columns</p>\n",
       "</div>"
      ],
      "text/plain": [
       "      itemID                                itemName  Estimate_byuser_Score  \\\n",
       "0       1250                           Killing Floor               4.461917   \n",
       "2217  320040                            Moon Hunters               4.461917   \n",
       "2207    6210                      Vegas: Make It Big               4.461917   \n",
       "2208  317040                 Strife: Veteran Edition               4.461917   \n",
       "2209    3900             Sid Meier's Civilization IV               4.461917   \n",
       "...      ...                                     ...                    ...   \n",
       "1109  229580                                   Dream               4.461917   \n",
       "1110  329830                         The Moon Sliver               4.461917   \n",
       "1111  413420          Danganronpa 2: Goodbye Despair               4.461917   \n",
       "1112   34030                     Napoleon: Total War               4.461917   \n",
       "3318  431510  Mystic Destinies: Serendipity of Aeons               4.461917   \n",
       "\n",
       "                             itemRecomendation  \n",
       "0        [8870, 31220, 417860, 238460, 253430]  \n",
       "2217       [24240, 211820, 620, 377160, 65800]  \n",
       "2207      [289130, 271590, 222880, 99900, 730]  \n",
       "2208    [218620, 8930, 374570, 233130, 365660]  \n",
       "2209  [105600, 208090, 221640, 234190, 212680]  \n",
       "...                                        ...  \n",
       "1109       [730, 218620, 49520, 238320, 72200]  \n",
       "1110   [238320, 72200, 229580, 242760, 305620]  \n",
       "1111      [730, 250320, 48700, 292030, 289130]  \n",
       "1112   [271590, 200210, 24240, 221100, 304930]  \n",
       "3318   [413150, 289130, 271590, 222880, 99900]  \n",
       "\n",
       "[3319 rows x 4 columns]"
      ]
     },
     "execution_count": 280,
     "metadata": {},
     "output_type": "execute_result"
    }
   ],
   "source": [
    "recomendaciones_usuario"
   ]
  },
  {
   "cell_type": "code",
   "execution_count": 262,
   "metadata": {},
   "outputs": [
    {
     "data": {
      "text/plain": [
       "['BioShock Infinite',\n",
       " 'Sam & Max 301: The Penal Zone',\n",
       " 'Emily is Away',\n",
       " 'BattleBlock Theater',\n",
       " 'CastleMiner Z']"
      ]
     },
     "execution_count": 262,
     "metadata": {},
     "output_type": "execute_result"
    }
   ],
   "source": [
    "recomendaciones_usuario[recomendaciones_usuario.itemID == 1250].itemRecomendation.values[0]"
   ]
  },
  {
   "cell_type": "markdown",
   "metadata": {},
   "source": [
    "# Condensacion del brainstorm"
   ]
  },
  {
   "cell_type": "markdown",
   "metadata": {},
   "source": [
    "## Recomendacion item"
   ]
  },
  {
   "cell_type": "code",
   "execution_count": 284,
   "metadata": {},
   "outputs": [],
   "source": [
    "df_ratings = pd.read_parquet('../Datasets/parquet/Recomendacion/recomendacion.parquet')\n",
    "df_titles = pd.read_parquet('../Datasets/parquet/Recomendacion/Final/diccionario_juegos.parquet')\n",
    "\n",
    "df_ratings = df_ratings[['item_id','user_id','puntaje']]\n",
    "df_ratings.columns = ['itemID','userID','rating']\n",
    "df_titles.columns = ['itemID','itemName']\n",
    "\n",
    "reader = sp.Reader(rating_scale=(1,6))\n",
    "data = sp.Dataset.load_from_df(df_ratings[[\"userID\", \"itemID\", \"rating\"]], reader)\n",
    "\n",
    "trainset, _ = sp.model_selection.train_test_split(data, test_size=.000000001,random_state=43)\n",
    "trainset2, _ = sp.model_selection.train_test_split(data, test_size=.000000001,random_state=10)"
   ]
  },
  {
   "cell_type": "code",
   "execution_count": 285,
   "metadata": {},
   "outputs": [],
   "source": [
    "def get_item_neighbors(item):\n",
    "    try:\n",
    "        iid = trainset.to_inner_iid(str(item))\n",
    "        similar_items = model_item_based.get_neighbors(iid, k=5)\n",
    "        result = []\n",
    "        for i in similar_items:\n",
    "            rid = trainset.to_raw_iid(i)\n",
    "            rname = df_titles[df_titles.itemID == int(rid)].itemID.values\n",
    "            result.append(rname[0])\n",
    "        return result\n",
    "    except:\n",
    "        iid = trainset2.to_inner_iid(str(item))\n",
    "        similar_items = model_item_based.get_neighbors(iid, k=5)\n",
    "        result = []\n",
    "        for i in similar_items:\n",
    "            rid = trainset2.to_raw_iid(i)\n",
    "            rname = df_titles[df_titles.itemID == int(rid)].itemID.values\n",
    "            result.append(rname[0])\n",
    "        return result"
   ]
  },
  {
   "cell_type": "code",
   "execution_count": 286,
   "metadata": {},
   "outputs": [
    {
     "data": {
      "text/html": [
       "<div>\n",
       "<style scoped>\n",
       "    .dataframe tbody tr th:only-of-type {\n",
       "        vertical-align: middle;\n",
       "    }\n",
       "\n",
       "    .dataframe tbody tr th {\n",
       "        vertical-align: top;\n",
       "    }\n",
       "\n",
       "    .dataframe thead th {\n",
       "        text-align: right;\n",
       "    }\n",
       "</style>\n",
       "<table border=\"1\" class=\"dataframe\">\n",
       "  <thead>\n",
       "    <tr style=\"text-align: right;\">\n",
       "      <th></th>\n",
       "      <th>itemID</th>\n",
       "      <th>itemName</th>\n",
       "      <th>ItemRecomendations</th>\n",
       "    </tr>\n",
       "  </thead>\n",
       "  <tbody>\n",
       "    <tr>\n",
       "      <th>0</th>\n",
       "      <td>1250</td>\n",
       "      <td>Killing Floor</td>\n",
       "      <td>[8870, 31220, 417860, 238460, 253430]</td>\n",
       "    </tr>\n",
       "    <tr>\n",
       "      <th>1</th>\n",
       "      <td>22200</td>\n",
       "      <td>Zeno Clash</td>\n",
       "      <td>[730, 8870, 57690, 1250, 49520]</td>\n",
       "    </tr>\n",
       "    <tr>\n",
       "      <th>2</th>\n",
       "      <td>43110</td>\n",
       "      <td>Metro 2033</td>\n",
       "      <td>[271590, 222880, 99900, 31220, 417860]</td>\n",
       "    </tr>\n",
       "    <tr>\n",
       "      <th>3</th>\n",
       "      <td>251610</td>\n",
       "      <td>Barbie™ Dreamhouse Party™</td>\n",
       "      <td>[200210, 239030, 227300, 289130, 271590]</td>\n",
       "    </tr>\n",
       "    <tr>\n",
       "      <th>4</th>\n",
       "      <td>227300</td>\n",
       "      <td>Euro Truck Simulator 2</td>\n",
       "      <td>[99900, 417860, 252490, 24240, 57690]</td>\n",
       "    </tr>\n",
       "    <tr>\n",
       "      <th>...</th>\n",
       "      <td>...</td>\n",
       "      <td>...</td>\n",
       "      <td>...</td>\n",
       "    </tr>\n",
       "    <tr>\n",
       "      <th>3316</th>\n",
       "      <td>307130</td>\n",
       "      <td>Asteria</td>\n",
       "      <td>[289130, 271590, 222880, 99900, 730]</td>\n",
       "    </tr>\n",
       "    <tr>\n",
       "      <th>3317</th>\n",
       "      <td>209120</td>\n",
       "      <td>Street Fighter X Tekken</td>\n",
       "      <td>[289130, 271590, 222880, 99900, 730]</td>\n",
       "    </tr>\n",
       "    <tr>\n",
       "      <th>3318</th>\n",
       "      <td>220090</td>\n",
       "      <td>The Journey Down: Chapter One</td>\n",
       "      <td>[265630, 262850, 289130, 271590, 222880]</td>\n",
       "    </tr>\n",
       "    <tr>\n",
       "      <th>3319</th>\n",
       "      <td>262850</td>\n",
       "      <td>The Journey Down: Chapter Two</td>\n",
       "      <td>[265630, 220090, 289130, 271590, 222880]</td>\n",
       "    </tr>\n",
       "    <tr>\n",
       "      <th>3320</th>\n",
       "      <td>431510</td>\n",
       "      <td>Mystic Destinies: Serendipity of Aeons</td>\n",
       "      <td>[413150, 289130, 271590, 222880, 99900]</td>\n",
       "    </tr>\n",
       "  </tbody>\n",
       "</table>\n",
       "<p>3321 rows × 3 columns</p>\n",
       "</div>"
      ],
      "text/plain": [
       "      itemID                                itemName  \\\n",
       "0       1250                           Killing Floor   \n",
       "1      22200                              Zeno Clash   \n",
       "2      43110                              Metro 2033   \n",
       "3     251610               Barbie™ Dreamhouse Party™   \n",
       "4     227300                  Euro Truck Simulator 2   \n",
       "...      ...                                     ...   \n",
       "3316  307130                                 Asteria   \n",
       "3317  209120                 Street Fighter X Tekken   \n",
       "3318  220090           The Journey Down: Chapter One   \n",
       "3319  262850           The Journey Down: Chapter Two   \n",
       "3320  431510  Mystic Destinies: Serendipity of Aeons   \n",
       "\n",
       "                            ItemRecomendations  \n",
       "0        [8870, 31220, 417860, 238460, 253430]  \n",
       "1              [730, 8870, 57690, 1250, 49520]  \n",
       "2       [271590, 222880, 99900, 31220, 417860]  \n",
       "3     [200210, 239030, 227300, 289130, 271590]  \n",
       "4        [99900, 417860, 252490, 24240, 57690]  \n",
       "...                                        ...  \n",
       "3316      [289130, 271590, 222880, 99900, 730]  \n",
       "3317      [289130, 271590, 222880, 99900, 730]  \n",
       "3318  [265630, 262850, 289130, 271590, 222880]  \n",
       "3319  [265630, 220090, 289130, 271590, 222880]  \n",
       "3320   [413150, 289130, 271590, 222880, 99900]  \n",
       "\n",
       "[3321 rows x 3 columns]"
      ]
     },
     "execution_count": 286,
     "metadata": {},
     "output_type": "execute_result"
    }
   ],
   "source": [
    "df_titles['ItemRecomendations'] = df_titles.itemID.apply(get_item_neighbors)\n",
    "df_titles"
   ]
  },
  {
   "cell_type": "code",
   "execution_count": 293,
   "metadata": {},
   "outputs": [
    {
     "data": {
      "text/plain": [
       "[{'Puesto': 1, 'ID': 8870, 'Nombre': 'BioShock Infinite'},\n",
       " {'Puesto': 2, 'ID': 31220, 'Nombre': 'Sam & Max 301: The Penal Zone'},\n",
       " {'Puesto': 3, 'ID': 417860, 'Nombre': 'Emily is Away'},\n",
       " {'Puesto': 4, 'ID': 238460, 'Nombre': 'BattleBlock Theater'},\n",
       " {'Puesto': 5, 'ID': 253430, 'Nombre': 'CastleMiner Z'}]"
      ]
     },
     "execution_count": 293,
     "metadata": {},
     "output_type": "execute_result"
    }
   ],
   "source": [
    "# entonces veamos la formula completa para ambas funciones:\n",
    "\n",
    "def recomendacion_juego(item_id):\n",
    "    result = df_titles[df_titles['itemID'] == item_id].ItemRecomendations.values[0]\n",
    "    resultado = []\n",
    "    count = 1\n",
    "    for i in result:\n",
    "        resultado.append({'Puesto':count,'ID':i,'Nombre':df_titles[df_titles['itemID'] == i].itemName.values[0]})\n",
    "        count +=1\n",
    "    return resultado\n",
    "\n",
    "recomendacion_juego(1250)"
   ]
  },
  {
   "cell_type": "code",
   "execution_count": 313,
   "metadata": {},
   "outputs": [],
   "source": [
    "df_titles.to_parquet('../Datasets/parquet/Recomendacion/Surprise/df_titles.parquet')"
   ]
  },
  {
   "cell_type": "markdown",
   "metadata": {},
   "source": [
    "## Recomendacion usuario\n"
   ]
  },
  {
   "cell_type": "code",
   "execution_count": 307,
   "metadata": {},
   "outputs": [
    {
     "data": {
      "text/plain": [
       "[1250, 320040, 6210, 317040, 3900]"
      ]
     },
     "execution_count": 307,
     "metadata": {},
     "output_type": "execute_result"
    }
   ],
   "source": [
    "model = sp.SVD()\n",
    "model.fit(trainset)\n",
    "\n",
    "def recomendacion_masiva_usuario(usuario):\n",
    "\n",
    "    usuario_vistas = df_ratings[df_ratings['userID'] == usuario]\n",
    "    usuario_vistas.loc[:, 'itemID'] = usuario_vistas['itemID'].astype(int)\n",
    "\n",
    "    recomendaciones_usuario = df_titles.copy()\n",
    "    recomendaciones_usuario = recomendaciones_usuario[~recomendaciones_usuario.itemID.isin(usuario_vistas.itemID.values)]\n",
    "    recomendaciones_usuario = recomendaciones_usuario.reset_index(drop=True)\n",
    "\n",
    "    recomendaciones_usuario['Estimate_byuser_Score'] = recomendaciones_usuario['itemID'].apply(lambda x: model.predict(usuario, x).est)\n",
    "    top5 = recomendaciones_usuario.sort_values(f'Estimate_byuser_Score', ascending=False).itemID[:5].values\n",
    "    return list(top5)\n",
    "\n",
    "recomendacion_masiva_usuario('00True')"
   ]
  },
  {
   "cell_type": "code",
   "execution_count": 308,
   "metadata": {},
   "outputs": [
    {
     "data": {
      "text/html": [
       "<div>\n",
       "<style scoped>\n",
       "    .dataframe tbody tr th:only-of-type {\n",
       "        vertical-align: middle;\n",
       "    }\n",
       "\n",
       "    .dataframe tbody tr th {\n",
       "        vertical-align: top;\n",
       "    }\n",
       "\n",
       "    .dataframe thead th {\n",
       "        text-align: right;\n",
       "    }\n",
       "</style>\n",
       "<table border=\"1\" class=\"dataframe\">\n",
       "  <thead>\n",
       "    <tr style=\"text-align: right;\">\n",
       "      <th></th>\n",
       "      <th>userID</th>\n",
       "    </tr>\n",
       "  </thead>\n",
       "  <tbody>\n",
       "    <tr>\n",
       "      <th>0</th>\n",
       "      <td>76561197970982479</td>\n",
       "    </tr>\n",
       "    <tr>\n",
       "      <th>3</th>\n",
       "      <td>js41637</td>\n",
       "    </tr>\n",
       "    <tr>\n",
       "      <th>6</th>\n",
       "      <td>evcentric</td>\n",
       "    </tr>\n",
       "    <tr>\n",
       "      <th>12</th>\n",
       "      <td>doctr</td>\n",
       "    </tr>\n",
       "    <tr>\n",
       "      <th>18</th>\n",
       "      <td>maplemage</td>\n",
       "    </tr>\n",
       "    <tr>\n",
       "      <th>...</th>\n",
       "      <td>...</td>\n",
       "    </tr>\n",
       "    <tr>\n",
       "      <th>51982</th>\n",
       "      <td>76561198296402247</td>\n",
       "    </tr>\n",
       "    <tr>\n",
       "      <th>51983</th>\n",
       "      <td>76561198306599751</td>\n",
       "    </tr>\n",
       "    <tr>\n",
       "      <th>51984</th>\n",
       "      <td>Ghoustik</td>\n",
       "    </tr>\n",
       "    <tr>\n",
       "      <th>51985</th>\n",
       "      <td>76561198312638244</td>\n",
       "    </tr>\n",
       "    <tr>\n",
       "      <th>51989</th>\n",
       "      <td>LydiaMorley</td>\n",
       "    </tr>\n",
       "  </tbody>\n",
       "</table>\n",
       "<p>23075 rows × 1 columns</p>\n",
       "</div>"
      ],
      "text/plain": [
       "                  userID\n",
       "0      76561197970982479\n",
       "3                js41637\n",
       "6              evcentric\n",
       "12                 doctr\n",
       "18             maplemage\n",
       "...                  ...\n",
       "51982  76561198296402247\n",
       "51983  76561198306599751\n",
       "51984           Ghoustik\n",
       "51985  76561198312638244\n",
       "51989        LydiaMorley\n",
       "\n",
       "[23075 rows x 1 columns]"
      ]
     },
     "execution_count": 308,
     "metadata": {},
     "output_type": "execute_result"
    }
   ],
   "source": [
    "df_usuarios = pd.DataFrame(df_ratings.userID.drop_duplicates())\n",
    "df_usuarios"
   ]
  },
  {
   "cell_type": "code",
   "execution_count": 309,
   "metadata": {},
   "outputs": [],
   "source": [
    "df_usuarios['userRecomendation'] = df_usuarios.userID.apply(recomendacion_masiva_usuario)"
   ]
  },
  {
   "cell_type": "code",
   "execution_count": 310,
   "metadata": {},
   "outputs": [
    {
     "data": {
      "text/html": [
       "<div>\n",
       "<style scoped>\n",
       "    .dataframe tbody tr th:only-of-type {\n",
       "        vertical-align: middle;\n",
       "    }\n",
       "\n",
       "    .dataframe tbody tr th {\n",
       "        vertical-align: top;\n",
       "    }\n",
       "\n",
       "    .dataframe thead th {\n",
       "        text-align: right;\n",
       "    }\n",
       "</style>\n",
       "<table border=\"1\" class=\"dataframe\">\n",
       "  <thead>\n",
       "    <tr style=\"text-align: right;\">\n",
       "      <th></th>\n",
       "      <th>userID</th>\n",
       "      <th>userRecomendation</th>\n",
       "    </tr>\n",
       "  </thead>\n",
       "  <tbody>\n",
       "    <tr>\n",
       "      <th>0</th>\n",
       "      <td>76561197970982479</td>\n",
       "      <td>[251610, 320040, 6210, 317040, 3900]</td>\n",
       "    </tr>\n",
       "    <tr>\n",
       "      <th>3</th>\n",
       "      <td>js41637</td>\n",
       "      <td>[1250, 320040, 6210, 317040, 3900]</td>\n",
       "    </tr>\n",
       "    <tr>\n",
       "      <th>6</th>\n",
       "      <td>evcentric</td>\n",
       "      <td>[1250, 214870, 317040, 3900, 373360]</td>\n",
       "    </tr>\n",
       "    <tr>\n",
       "      <th>12</th>\n",
       "      <td>doctr</td>\n",
       "      <td>[1250, 214870, 317040, 3900, 373360]</td>\n",
       "    </tr>\n",
       "    <tr>\n",
       "      <th>18</th>\n",
       "      <td>maplemage</td>\n",
       "      <td>[1250, 214870, 317040, 3900, 373360]</td>\n",
       "    </tr>\n",
       "    <tr>\n",
       "      <th>...</th>\n",
       "      <td>...</td>\n",
       "      <td>...</td>\n",
       "    </tr>\n",
       "    <tr>\n",
       "      <th>51982</th>\n",
       "      <td>76561198296402247</td>\n",
       "      <td>[1250, 39690, 434420, 6210, 317040]</td>\n",
       "    </tr>\n",
       "    <tr>\n",
       "      <th>51983</th>\n",
       "      <td>76561198306599751</td>\n",
       "      <td>[1250, 39690, 434420, 6210, 317040]</td>\n",
       "    </tr>\n",
       "    <tr>\n",
       "      <th>51984</th>\n",
       "      <td>Ghoustik</td>\n",
       "      <td>[1250, 39690, 434420, 6210, 317040]</td>\n",
       "    </tr>\n",
       "    <tr>\n",
       "      <th>51985</th>\n",
       "      <td>76561198312638244</td>\n",
       "      <td>[1250, 214870, 317040, 3900, 373360]</td>\n",
       "    </tr>\n",
       "    <tr>\n",
       "      <th>51989</th>\n",
       "      <td>LydiaMorley</td>\n",
       "      <td>[1250, 320040, 6210, 317040, 3900]</td>\n",
       "    </tr>\n",
       "  </tbody>\n",
       "</table>\n",
       "<p>23075 rows × 2 columns</p>\n",
       "</div>"
      ],
      "text/plain": [
       "                  userID                     userRecomendation\n",
       "0      76561197970982479  [251610, 320040, 6210, 317040, 3900]\n",
       "3                js41637    [1250, 320040, 6210, 317040, 3900]\n",
       "6              evcentric  [1250, 214870, 317040, 3900, 373360]\n",
       "12                 doctr  [1250, 214870, 317040, 3900, 373360]\n",
       "18             maplemage  [1250, 214870, 317040, 3900, 373360]\n",
       "...                  ...                                   ...\n",
       "51982  76561198296402247   [1250, 39690, 434420, 6210, 317040]\n",
       "51983  76561198306599751   [1250, 39690, 434420, 6210, 317040]\n",
       "51984           Ghoustik   [1250, 39690, 434420, 6210, 317040]\n",
       "51985  76561198312638244  [1250, 214870, 317040, 3900, 373360]\n",
       "51989        LydiaMorley    [1250, 320040, 6210, 317040, 3900]\n",
       "\n",
       "[23075 rows x 2 columns]"
      ]
     },
     "execution_count": 310,
     "metadata": {},
     "output_type": "execute_result"
    }
   ],
   "source": [
    "df_usuarios"
   ]
  },
  {
   "cell_type": "code",
   "execution_count": 312,
   "metadata": {},
   "outputs": [
    {
     "data": {
      "text/plain": [
       "[{'Puesto': 1, 'ID': 1250, 'Nombre': 'Killing Floor'},\n",
       " {'Puesto': 2, 'ID': 320040, 'Nombre': 'Moon Hunters'},\n",
       " {'Puesto': 3, 'ID': 6210, 'Nombre': 'Vegas: Make It Big'},\n",
       " {'Puesto': 4, 'ID': 317040, 'Nombre': 'Strife: Veteran Edition'},\n",
       " {'Puesto': 5, 'ID': 3900, 'Nombre': \"Sid Meier's Civilization IV\"}]"
      ]
     },
     "execution_count": 312,
     "metadata": {},
     "output_type": "execute_result"
    }
   ],
   "source": [
    "def recomendacion_usuario(user_id):\n",
    "    result = df_usuarios[df_usuarios['userID'] == user_id].userRecomendation.values[0]\n",
    "    resultado = []\n",
    "    count = 1\n",
    "    for i in result:\n",
    "        resultado.append({'Puesto':count,'ID':i,'Nombre':df_titles[df_titles['itemID'] == i].itemName.values[0]})\n",
    "        count +=1\n",
    "    return resultado\n",
    "\n",
    "recomendacion_usuario('00True')"
   ]
  },
  {
   "cell_type": "code",
   "execution_count": 314,
   "metadata": {},
   "outputs": [],
   "source": [
    "df_usuarios.to_parquet('../Datasets/parquet/Recomendacion/Surprise/df_usuarios.parquet')"
   ]
  }
 ],
 "metadata": {
  "kernelspec": {
   "display_name": "Python 3",
   "language": "python",
   "name": "python3"
  },
  "language_info": {
   "codemirror_mode": {
    "name": "ipython",
    "version": 3
   },
   "file_extension": ".py",
   "mimetype": "text/x-python",
   "name": "python",
   "nbconvert_exporter": "python",
   "pygments_lexer": "ipython3",
   "version": "3.11.7"
  }
 },
 "nbformat": 4,
 "nbformat_minor": 2
}
