{
 "cells": [
  {
   "cell_type": "markdown",
   "metadata": {},
   "source": [
    "# Funciones API\n"
   ]
  },
  {
   "cell_type": "code",
   "execution_count": 1,
   "metadata": {},
   "outputs": [],
   "source": [
    "import pandas as pd"
   ]
  },
  {
   "cell_type": "code",
   "execution_count": 2,
   "metadata": {},
   "outputs": [],
   "source": [
    "df_playtime = pd.read_parquet('Datasets/parquet/API/playtime.parquet')\n",
    "df_feel = pd.read_parquet('Datasets/parquet/API/feel.parquet')"
   ]
  },
  {
   "cell_type": "code",
   "execution_count": 3,
   "metadata": {},
   "outputs": [
    {
     "data": {
      "text/html": [
       "<div>\n",
       "<style scoped>\n",
       "    .dataframe tbody tr th:only-of-type {\n",
       "        vertical-align: middle;\n",
       "    }\n",
       "\n",
       "    .dataframe tbody tr th {\n",
       "        vertical-align: top;\n",
       "    }\n",
       "\n",
       "    .dataframe thead th {\n",
       "        text-align: right;\n",
       "    }\n",
       "</style>\n",
       "<table border=\"1\" class=\"dataframe\">\n",
       "  <thead>\n",
       "    <tr style=\"text-align: right;\">\n",
       "      <th></th>\n",
       "      <th>genres</th>\n",
       "      <th>release_year</th>\n",
       "      <th>user_id</th>\n",
       "      <th>playtime_forever</th>\n",
       "    </tr>\n",
       "  </thead>\n",
       "  <tbody>\n",
       "    <tr>\n",
       "      <th>0</th>\n",
       "      <td>Action</td>\n",
       "      <td>1983</td>\n",
       "      <td>2Ta4</td>\n",
       "      <td>18</td>\n",
       "    </tr>\n",
       "    <tr>\n",
       "      <th>1</th>\n",
       "      <td>Action</td>\n",
       "      <td>1983</td>\n",
       "      <td>76561197960324641</td>\n",
       "      <td>0</td>\n",
       "    </tr>\n",
       "    <tr>\n",
       "      <th>2</th>\n",
       "      <td>Action</td>\n",
       "      <td>1983</td>\n",
       "      <td>76561197966936422</td>\n",
       "      <td>331</td>\n",
       "    </tr>\n",
       "    <tr>\n",
       "      <th>3</th>\n",
       "      <td>Action</td>\n",
       "      <td>1983</td>\n",
       "      <td>76561197968887720</td>\n",
       "      <td>1</td>\n",
       "    </tr>\n",
       "    <tr>\n",
       "      <th>4</th>\n",
       "      <td>Action</td>\n",
       "      <td>1983</td>\n",
       "      <td>76561197969020980</td>\n",
       "      <td>98</td>\n",
       "    </tr>\n",
       "    <tr>\n",
       "      <th>...</th>\n",
       "      <td>...</td>\n",
       "      <td>...</td>\n",
       "      <td>...</td>\n",
       "      <td>...</td>\n",
       "    </tr>\n",
       "    <tr>\n",
       "      <th>3429398</th>\n",
       "      <td>Web Publishing</td>\n",
       "      <td>2017</td>\n",
       "      <td>Eosoforcus</td>\n",
       "      <td>58</td>\n",
       "    </tr>\n",
       "    <tr>\n",
       "      <th>3429399</th>\n",
       "      <td>Web Publishing</td>\n",
       "      <td>2017</td>\n",
       "      <td>N47H4NI3L</td>\n",
       "      <td>1635</td>\n",
       "    </tr>\n",
       "    <tr>\n",
       "      <th>3429400</th>\n",
       "      <td>Web Publishing</td>\n",
       "      <td>2017</td>\n",
       "      <td>dirklah</td>\n",
       "      <td>796</td>\n",
       "    </tr>\n",
       "    <tr>\n",
       "      <th>3429401</th>\n",
       "      <td>Web Publishing</td>\n",
       "      <td>2017</td>\n",
       "      <td>kushziller</td>\n",
       "      <td>251</td>\n",
       "    </tr>\n",
       "    <tr>\n",
       "      <th>3429402</th>\n",
       "      <td>Web Publishing</td>\n",
       "      <td>2017</td>\n",
       "      <td>wiinga</td>\n",
       "      <td>471</td>\n",
       "    </tr>\n",
       "  </tbody>\n",
       "</table>\n",
       "<p>3429403 rows × 4 columns</p>\n",
       "</div>"
      ],
      "text/plain": [
       "                 genres  release_year            user_id  playtime_forever\n",
       "0                Action          1983               2Ta4                18\n",
       "1                Action          1983  76561197960324641                 0\n",
       "2                Action          1983  76561197966936422               331\n",
       "3                Action          1983  76561197968887720                 1\n",
       "4                Action          1983  76561197969020980                98\n",
       "...                 ...           ...                ...               ...\n",
       "3429398  Web Publishing          2017         Eosoforcus                58\n",
       "3429399  Web Publishing          2017          N47H4NI3L              1635\n",
       "3429400  Web Publishing          2017            dirklah               796\n",
       "3429401  Web Publishing          2017         kushziller               251\n",
       "3429402  Web Publishing          2017             wiinga               471\n",
       "\n",
       "[3429403 rows x 4 columns]"
      ]
     },
     "execution_count": 3,
     "metadata": {},
     "output_type": "execute_result"
    }
   ],
   "source": [
    "df_playtime"
   ]
  },
  {
   "cell_type": "markdown",
   "metadata": {},
   "source": [
    "\n",
    "## PlayTimeGenre: \n",
    "\n",
    "Debe devolver año con mas horas jugadas para dicho género. \n"
   ]
  },
  {
   "cell_type": "code",
   "execution_count": 4,
   "metadata": {},
   "outputs": [],
   "source": [
    "lista_generos = list(df_playtime.genres.sort_values().unique())"
   ]
  },
  {
   "cell_type": "code",
   "execution_count": 5,
   "metadata": {},
   "outputs": [],
   "source": [
    "def PlayTimeGenre(genre):\n",
    "    if genre not in lista_generos:\n",
    "        return 'El genero elegido no es valido'\n",
    "    df_plf = df_playtime[df_playtime['genres'] == genre].groupby(['release_year'])['playtime_forever'].sum().sort_values(ascending=False)\n",
    "    anio = df_plf.index[0]\n",
    "    dic = {f\"Año de lanzamiento con más horas jugadas para Género {genre}\": anio}\n",
    "    return dic\n",
    "    "
   ]
  },
  {
   "cell_type": "code",
   "execution_count": 6,
   "metadata": {},
   "outputs": [
    {
     "name": "stdout",
     "output_type": "stream",
     "text": [
      "Seleccione el genero deseado, tener en cuenta que los generos disponibles son: ['Action', 'Adventure', 'Animation &amp; Modeling', 'Audio Production', 'Casual', 'Design &amp; Illustration', 'Early Access', 'Education', 'Free to Play', 'Indie', 'Massively Multiplayer', 'Photo Editing', 'RPG', 'Racing', 'Simulation', 'Software Training', 'Sports', 'Strategy', 'Utilities', 'Video Production', 'Web Publishing']\n"
     ]
    },
    {
     "data": {
      "text/plain": [
       "{'Año de lanzamiento con más horas jugadas para Género Action': 2012}"
      ]
     },
     "execution_count": 6,
     "metadata": {},
     "output_type": "execute_result"
    }
   ],
   "source": [
    "print(f'Seleccione el genero deseado, tener en cuenta que los generos disponibles son: {lista_generos}')\n",
    "\n",
    "genero = input()\n",
    "\n",
    "PlayTimeGenre(genero)"
   ]
  },
  {
   "cell_type": "markdown",
   "metadata": {},
   "source": [
    "## UserForGenre: \n",
    "\n",
    "Debe devolver el usuario que acumula más horas jugadas para el género dado y una lista de la acumulación de horas jugadas por año.\n"
   ]
  },
  {
   "cell_type": "code",
   "execution_count": 7,
   "metadata": {},
   "outputs": [],
   "source": [
    "def UserForGenre(genre):\n",
    "    if genre not in lista_generos:\n",
    "        return 'El genero elegido no es valido'\n",
    "    df_plut = df_playtime[df_playtime['genres']==genre].groupby(['user_id'])['playtime_forever'].sum().sort_values(ascending=False)\n",
    "    user = df_plut.index[0]\n",
    "    df_plu = df_playtime[(df_playtime['genres']==genre) & (df_playtime['user_id']==user)].groupby(['release_year'])['playtime_forever'].sum().sort_index(ascending=False)\n",
    "    dic = {f'Usuario con más horas jugadas para Género {genre}':user}\n",
    "    lista = []\n",
    "    for index,value in df_plu.items():\n",
    "        if value == 0:\n",
    "            continue\n",
    "        lista.append({f'Año: {index}':f'Horas: {value}'})\n",
    "    dic.update({'Horas jugadas':lista})\n",
    "    return dic\n"
   ]
  },
  {
   "cell_type": "code",
   "execution_count": 8,
   "metadata": {},
   "outputs": [
    {
     "name": "stdout",
     "output_type": "stream",
     "text": [
      "Seleccione el genero deseado, tener en cuenta que los generos disponibles son: ['Action', 'Adventure', 'Animation &amp; Modeling', 'Audio Production', 'Casual', 'Design &amp; Illustration', 'Early Access', 'Education', 'Free to Play', 'Indie', 'Massively Multiplayer', 'Photo Editing', 'RPG', 'Racing', 'Simulation', 'Software Training', 'Sports', 'Strategy', 'Utilities', 'Video Production', 'Web Publishing']\n"
     ]
    },
    {
     "data": {
      "text/plain": [
       "{'Usuario con más horas jugadas para Género Action': 'Sp3ctre',\n",
       " 'Horas jugadas': [{'Año: 2017': 'Horas: 43327'},\n",
       "  {'Año: 2016': 'Horas: 29576'},\n",
       "  {'Año: 2015': 'Horas: 307511'},\n",
       "  {'Año: 2014': 'Horas: 130691'},\n",
       "  {'Año: 2013': 'Horas: 120461'},\n",
       "  {'Año: 2012': 'Horas: 378296'},\n",
       "  {'Año: 2011': 'Horas: 154896'},\n",
       "  {'Año: 2010': 'Horas: 78083'},\n",
       "  {'Año: 2009': 'Horas: 108326'},\n",
       "  {'Año: 2008': 'Horas: 224'},\n",
       "  {'Año: 2007': 'Horas: 112784'},\n",
       "  {'Año: 2006': 'Horas: 896'},\n",
       "  {'Año: 2005': 'Horas: 21339'},\n",
       "  {'Año: 2004': 'Horas: 127411'},\n",
       "  {'Año: 2003': 'Horas: 7673'},\n",
       "  {'Año: 2002': 'Horas: 238'},\n",
       "  {'Año: 2001': 'Horas: 13'},\n",
       "  {'Año: 2000': 'Horas: 70644'},\n",
       "  {'Año: 1999': 'Horas: 44'},\n",
       "  {'Año: 1995': 'Horas: 217'}]}"
      ]
     },
     "execution_count": 8,
     "metadata": {},
     "output_type": "execute_result"
    }
   ],
   "source": [
    "print(f'Seleccione el genero deseado, tener en cuenta que los generos disponibles son: {lista_generos}')\n",
    "\n",
    "genero = input()\n",
    "\n",
    "UserForGenre(genero)\n"
   ]
  },
  {
   "cell_type": "markdown",
   "metadata": {},
   "source": [
    "\n",
    "## UsersRecommend: \n",
    "\n",
    "Devuelve el top 3 de juegos MÁS recomendados por usuarios para el año dado. (reviews.recommend = True y comentarios positivos/neutrales).\n"
   ]
  },
  {
   "cell_type": "code",
   "execution_count": 9,
   "metadata": {},
   "outputs": [
    {
     "data": {
      "text/html": [
       "<div>\n",
       "<style scoped>\n",
       "    .dataframe tbody tr th:only-of-type {\n",
       "        vertical-align: middle;\n",
       "    }\n",
       "\n",
       "    .dataframe tbody tr th {\n",
       "        vertical-align: top;\n",
       "    }\n",
       "\n",
       "    .dataframe thead th {\n",
       "        text-align: right;\n",
       "    }\n",
       "</style>\n",
       "<table border=\"1\" class=\"dataframe\">\n",
       "  <thead>\n",
       "    <tr style=\"text-align: right;\">\n",
       "      <th></th>\n",
       "      <th>developer</th>\n",
       "      <th>release_year</th>\n",
       "      <th>app_name</th>\n",
       "      <th>sentiment_analysis</th>\n",
       "      <th>recommend</th>\n",
       "      <th>item_id</th>\n",
       "    </tr>\n",
       "  </thead>\n",
       "  <tbody>\n",
       "    <tr>\n",
       "      <th>0</th>\n",
       "      <td>07th Expansion</td>\n",
       "      <td>2015</td>\n",
       "      <td>Higurashi When They Cry Hou - Ch.1 Onikakushi</td>\n",
       "      <td>0</td>\n",
       "      <td>True</td>\n",
       "      <td>1</td>\n",
       "    </tr>\n",
       "    <tr>\n",
       "      <th>1</th>\n",
       "      <td>07th Expansion</td>\n",
       "      <td>2015</td>\n",
       "      <td>Higurashi When They Cry Hou - Ch.1 Onikakushi</td>\n",
       "      <td>1</td>\n",
       "      <td>True</td>\n",
       "      <td>1</td>\n",
       "    </tr>\n",
       "    <tr>\n",
       "      <th>2</th>\n",
       "      <td>07th Expansion</td>\n",
       "      <td>2016</td>\n",
       "      <td>Umineko When They Cry - Question Arcs</td>\n",
       "      <td>1</td>\n",
       "      <td>True</td>\n",
       "      <td>1</td>\n",
       "    </tr>\n",
       "    <tr>\n",
       "      <th>3</th>\n",
       "      <td>10th Art Studio,Adventure Productions</td>\n",
       "      <td>2014</td>\n",
       "      <td>Shadows on the Vatican Act I: Greed</td>\n",
       "      <td>1</td>\n",
       "      <td>False</td>\n",
       "      <td>2</td>\n",
       "    </tr>\n",
       "    <tr>\n",
       "      <th>4</th>\n",
       "      <td>10th Art Studio,Adventure Productions</td>\n",
       "      <td>2014</td>\n",
       "      <td>Shadows on the Vatican Act I: Greed</td>\n",
       "      <td>2</td>\n",
       "      <td>True</td>\n",
       "      <td>2</td>\n",
       "    </tr>\n",
       "    <tr>\n",
       "      <th>...</th>\n",
       "      <td>...</td>\n",
       "      <td>...</td>\n",
       "      <td>...</td>\n",
       "      <td>...</td>\n",
       "      <td>...</td>\n",
       "      <td>...</td>\n",
       "    </tr>\n",
       "    <tr>\n",
       "      <th>6516</th>\n",
       "      <td>インレ,Inre</td>\n",
       "      <td>2016</td>\n",
       "      <td>ChuSingura46+1 S</td>\n",
       "      <td>2</td>\n",
       "      <td>True</td>\n",
       "      <td>2</td>\n",
       "    </tr>\n",
       "    <tr>\n",
       "      <th>6517</th>\n",
       "      <td>橘子班</td>\n",
       "      <td>2016</td>\n",
       "      <td>Season of 12 Colors</td>\n",
       "      <td>0</td>\n",
       "      <td>True</td>\n",
       "      <td>3</td>\n",
       "    </tr>\n",
       "    <tr>\n",
       "      <th>6518</th>\n",
       "      <td>橘子班</td>\n",
       "      <td>2016</td>\n",
       "      <td>Season of 12 Colors</td>\n",
       "      <td>1</td>\n",
       "      <td>True</td>\n",
       "      <td>6</td>\n",
       "    </tr>\n",
       "    <tr>\n",
       "      <th>6519</th>\n",
       "      <td>橘子班</td>\n",
       "      <td>2016</td>\n",
       "      <td>Season of 12 Colors</td>\n",
       "      <td>2</td>\n",
       "      <td>True</td>\n",
       "      <td>3</td>\n",
       "    </tr>\n",
       "    <tr>\n",
       "      <th>6520</th>\n",
       "      <td>高考恋爱委员会,橘子班</td>\n",
       "      <td>2015</td>\n",
       "      <td>Gaokao.Love.100Days</td>\n",
       "      <td>1</td>\n",
       "      <td>True</td>\n",
       "      <td>8</td>\n",
       "    </tr>\n",
       "  </tbody>\n",
       "</table>\n",
       "<p>6521 rows × 6 columns</p>\n",
       "</div>"
      ],
      "text/plain": [
       "                                  developer  release_year  \\\n",
       "0                            07th Expansion          2015   \n",
       "1                            07th Expansion          2015   \n",
       "2                            07th Expansion          2016   \n",
       "3     10th Art Studio,Adventure Productions          2014   \n",
       "4     10th Art Studio,Adventure Productions          2014   \n",
       "...                                     ...           ...   \n",
       "6516                               インレ,Inre          2016   \n",
       "6517                                    橘子班          2016   \n",
       "6518                                    橘子班          2016   \n",
       "6519                                    橘子班          2016   \n",
       "6520                            高考恋爱委员会,橘子班          2015   \n",
       "\n",
       "                                           app_name  sentiment_analysis  \\\n",
       "0     Higurashi When They Cry Hou - Ch.1 Onikakushi                   0   \n",
       "1     Higurashi When They Cry Hou - Ch.1 Onikakushi                   1   \n",
       "2             Umineko When They Cry - Question Arcs                   1   \n",
       "3               Shadows on the Vatican Act I: Greed                   1   \n",
       "4               Shadows on the Vatican Act I: Greed                   2   \n",
       "...                                             ...                 ...   \n",
       "6516                               ChuSingura46+1 S                   2   \n",
       "6517                            Season of 12 Colors                   0   \n",
       "6518                            Season of 12 Colors                   1   \n",
       "6519                            Season of 12 Colors                   2   \n",
       "6520                            Gaokao.Love.100Days                   1   \n",
       "\n",
       "      recommend  item_id  \n",
       "0          True        1  \n",
       "1          True        1  \n",
       "2          True        1  \n",
       "3         False        2  \n",
       "4          True        2  \n",
       "...         ...      ...  \n",
       "6516       True        2  \n",
       "6517       True        3  \n",
       "6518       True        6  \n",
       "6519       True        3  \n",
       "6520       True        8  \n",
       "\n",
       "[6521 rows x 6 columns]"
      ]
     },
     "execution_count": 9,
     "metadata": {},
     "output_type": "execute_result"
    }
   ],
   "source": [
    "df_feel"
   ]
  },
  {
   "cell_type": "code",
   "execution_count": 10,
   "metadata": {},
   "outputs": [],
   "source": [
    "lista_anios = list(df_feel.release_year.sort_values().unique())"
   ]
  },
  {
   "cell_type": "code",
   "execution_count": 11,
   "metadata": {},
   "outputs": [],
   "source": [
    "def UsersRecommend(year):\n",
    "    try:\n",
    "        year = int(year)\n",
    "    except:\n",
    "        return 'No se ingreso un anio valido'\n",
    "    if year not in lista_anios:\n",
    "        return 'No se ingreso un anio valido'\n",
    "    df_ur = df_feel[(df_feel['release_year']==year) & (df_feel['recommend']==True)&(df_feel['sentiment_analysis']>0)].groupby(['app_name'])['item_id'].sum().sort_values(ascending=False)\n",
    "    lista = []\n",
    "    for i in range(1,4):\n",
    "        lista.append({f'Puesto {i}':df_ur.index[i]})\n",
    "    return lista"
   ]
  },
  {
   "cell_type": "code",
   "execution_count": 12,
   "metadata": {},
   "outputs": [
    {
     "name": "stdout",
     "output_type": "stream",
     "text": [
      "Seleccionar el anio de interes, contemple que los anios disponibles son: [1989, 1990, 1991, 1992, 1993, 1994, 1995, 1996, 1997, 1998, 1999, 2000, 2001, 2002, 2003, 2004, 2005, 2006, 2007, 2008, 2009, 2010, 2011, 2012, 2013, 2014, 2015, 2016, 2017]\n"
     ]
    },
    {
     "data": {
      "text/plain": [
       "[{'Puesto 1': 'Emily is Away'},\n",
       " {'Puesto 2': 'Trove'},\n",
       " {'Puesto 3': 'Clicker Heroes'}]"
      ]
     },
     "execution_count": 12,
     "metadata": {},
     "output_type": "execute_result"
    }
   ],
   "source": [
    "print(f'Seleccionar el anio de interes, contemple que los anios disponibles son: {lista_anios}')\n",
    "\n",
    "anio = input()\n",
    "\n",
    "UsersRecommend(anio)"
   ]
  },
  {
   "cell_type": "markdown",
   "metadata": {},
   "source": [
    "\n",
    "## UsersWorstDeveloper: \n",
    "\n",
    "Devuelve el top 3 de desarrolladoras con juegos MENOS recomendados por usuarios para el año dado. (reviews.recommend = False y comentarios negativos).\n"
   ]
  },
  {
   "cell_type": "code",
   "execution_count": 13,
   "metadata": {},
   "outputs": [],
   "source": [
    "def UsersWorstDeveloper(year):\n",
    "    try:\n",
    "        year = int(year)\n",
    "    except:\n",
    "        return 'No se ingreso un anio valido'\n",
    "    if year not in lista_anios:\n",
    "        return 'No se ingreso un anio valido'\n",
    "    df_uw = df_feel[(df_feel['release_year']==year) & (df_feel['recommend']==False)&(df_feel['sentiment_analysis']==0)].groupby(['developer'])['item_id'].sum().sort_values(ascending=False)\n",
    "    lista = []\n",
    "    for i in range(1,4):\n",
    "        lista.append({f'Puesto {i}':df_uw.index[i]})\n",
    "    return lista"
   ]
  },
  {
   "cell_type": "code",
   "execution_count": 14,
   "metadata": {},
   "outputs": [
    {
     "name": "stdout",
     "output_type": "stream",
     "text": [
      "Seleccionar el anio de interes, contemple que los anios disponibles son: [1989, 1990, 1991, 1992, 1993, 1994, 1995, 1996, 1997, 1998, 1999, 2000, 2001, 2002, 2003, 2004, 2005, 2006, 2007, 2008, 2009, 2010, 2011, 2012, 2013, 2014, 2015, 2016, 2017]\n"
     ]
    },
    {
     "data": {
      "text/plain": [
       "[{'Puesto 1': 'Nexon'},\n",
       " {'Puesto 2': 'Phosphor Games Studio'},\n",
       " {'Puesto 3': 'Edge of Reality'}]"
      ]
     },
     "execution_count": 14,
     "metadata": {},
     "output_type": "execute_result"
    }
   ],
   "source": [
    "print(f'Seleccionar el anio de interes, contemple que los anios disponibles son: {lista_anios}')\n",
    "\n",
    "anio = input()\n",
    "\n",
    "UsersWorstDeveloper(anio)"
   ]
  },
  {
   "cell_type": "markdown",
   "metadata": {},
   "source": [
    "\n",
    "## sentiment_analysis: \n",
    "\n",
    "Según la empresa desarrolladora, se devuelve un diccionario con el nombre de la desarrolladora como llave y una lista con la cantidad total de registros de reseñas de usuarios que se encuentren categorizados con un análisis de sentimiento como valor."
   ]
  },
  {
   "cell_type": "code",
   "execution_count": 15,
   "metadata": {},
   "outputs": [],
   "source": [
    "lista_empresa = list(df_feel.developer.unique())"
   ]
  },
  {
   "cell_type": "code",
   "execution_count": 16,
   "metadata": {},
   "outputs": [],
   "source": [
    "def sentiment_analysis(empresa):\n",
    "    if empresa not in lista_empresa:\n",
    "        return 'La empresa desarrolladora seleccionada no es valida'\n",
    "    df_sa = df_feel[(df_feel['developer']==empresa)].groupby(['sentiment_analysis'])['item_id'].sum().sort_index()\n",
    "    lista = [f'Negative: {df_sa.iloc[0]}',f'Neutral: {df_sa.iloc[1]}',f'Positive: {df_sa.iloc[2]}']\n",
    "    dic = {empresa:lista}\n",
    "    return dic"
   ]
  },
  {
   "cell_type": "code",
   "execution_count": 17,
   "metadata": {},
   "outputs": [
    {
     "name": "stdout",
     "output_type": "stream",
     "text": [
      "Ingresar una de las siguientes empresas para obtener el valor: ['07th Expansion', '10th Art Studio,Adventure Productions', '10tons Ltd', '11 bit studios', '14° East', '16bit Nights', '17-BIT', '1C Company', '1C-Avalon', '1C-SoftClub', '1C: Maddox Games', '1C:InoCo', '22cans', '24 Caret Games', '2D BOY', '2DArray', '2DEngine.com', '2K Australia,Gearbox Software,Aspyr (Mac &amp; Linux)', '2K Australia,Gearbox Software,Aspyr (Mac and Linux)', '2K Australia,Gearbox Software,Aspyr (Mac,Linux)', '2K Boston,2K Australia', '2K Boston,2K Australia,Blind Squirrel,Feral Interactive (Mac)', '2K Czech,Feral Interactive (Mac)', '2K Marin', '2K Marin,2K China,Digital Extremes,2K Australia,Feral Interactive (Mac)', '2Play', '2x2 Games', '3 Sprockets', '30.06 Studios Ltd', '3000AD', '343 Industries,Vanguard Games', '3909', '3D Realms (Apogee Software)', '3f Interactive', '4 I Lab', '48h Studio', '49 Games', '4A Games', '5 Bits Games', '5 Lives Studios', '5Wolf', '5th Cell Media', '773', '777 Studios', '8-Bit Studio', '800 North and Digital Ranch', '8888888 LABS', '88mm', '9heads Game Studios', '@unepic_fran', 'A Crowd of Monsters', 'A Jolly Corpse', 'ACE MADDOX', 'ACE Team', 'ACQUIRE Corp.', 'AGC', 'ALICE IN DISSONANCE', 'ALLPlayer Group Ltd.', 'AMPLITUDE Studios', 'AZAMATIKA', 'Abbey Games', 'Above and Beyond Technologies', 'Abraham Carreola', 'Abrakam SA', 'Abstract Tree Studio', 'Abstraction Games', 'Abstraction Games,WayForward', 'Acceleroto, Inc.', 'Access Games', 'Acid Nerve', 'Actalogic', 'Action Button Entertainment, LLC', 'Adam Foster', 'Aeon Dream Studios', 'Afterthought LLC', 'Airtight Games', 'Aivaras Klimas', 'Akakiy Petrushkin', 'Akella,.dat', 'AlPixel Games,Luis Diaz,Gustavo Santos,Albert Fernandez,Tice Thomason', 'Alan Edwardes', 'Alan Zucconi', 'Alawar', 'Alawar Entertainment', 'Aldorlea Games', 'Aleksey Abramenko', 'Alex Zhang', 'Alexander Bruce', 'Alexey Davydov,Sergey Dvoynikov,Timofey Shargorodskiy', 'Alice &amp; Smith', 'Alien Pixel Studios', 'Alien Sync Interactive', 'Alientrap', 'Allen Dayan', 'Almost Human Games', 'Altar Games', 'Alternative Software Ltd', 'Amanita Design', 'Amaranth Games, LLC', 'Amaterasu Software', 'Anarchy Enterprises', 'Andrew Gilmour', 'AndrewMD5,Codeusa', 'Andrii Vintsevych', 'Andy Wallace', 'Animation Arts', 'Animu Game', 'Anisoptera Games', 'Ankama Studio', 'Anothink', 'Antanas Marcelionis,Renė Petrulienė', 'Anteater Games', 'Antonio Renna', 'Anvate Games', 'Apeiron', 'Aperture Tag Team', 'Aquiris Game Studio', 'Arachnid Games', 'Aratog LLC', 'Arc System Works', 'Arcen Games, LLC', 'Archive Entertainment', 'Arkane Studios', 'Arkavi Studios', 'Arkedo', 'Armature Studio', 'Arrowhead Game Studios', 'Artefacts Studio', 'Artefacts Studios', 'Artery Games', 'Artifex Mundi', 'Artifice Studio', 'Ascaron', 'Ascaron Entertainment ltd.', 'Ascension Entertainment LLC', 'Aspyr', 'Aspyr Studios', 'Aspyr,Quantic Dream (original release)', 'Atapki', 'Atelier 801', 'Atom Republic', 'AtomicTorch Studio', 'Atum Software', 'Atypical Games', 'Aurelien Regard', 'Austin Handle', 'Autobotika,Game Nation Inc', 'Avalanche Software', 'Avalanche Studios', 'Avalanche Studios,Feral Interactive (Mac/Linux)', 'Avidly Wild Games', 'Awesome Games Studio', 'AwesomeBlade', 'Axis Game Factory', 'Axis Game Factory LLC', 'Axolot Games', 'Axyos Games', 'BANDAI NAMCO Studio Inc.', 'BRHP', 'BS1 &amp; BSL Team', 'BUGBEAR', 'Back To Basics Gaming', 'Bacon Wrapped Games', 'BadFly Interactive, a.s.', 'Badland Studio', 'Baggy Cat Ltd', 'Baller Industries', 'Bankroll Studios', 'Bare Mettle Entertainment', 'Basaltic studio', 'Bat Country Games, LLC', 'Batholith Entertainment', 'Batterystaple Games,Fire Hose Games', 'BattleGoat Studios', 'Beam Team Games', 'BeamNG', 'Beamdog', 'BeautiFun Games', 'Bedlam Games', 'Bedtime Digital Games', 'Beenox', 'Behold Studios', \"Ben 'Yahtzee' Croshaw,Collected Worlds\", 'Benjamin Bryant', 'Benjamin Rivers Inc.', 'Best Gaem Studio', 'Best Way', 'BetaDwarf', 'Bethesda Game Studios', 'Biart Company LLC', 'Big Ant Studios', 'Big Corporation', 'Big Fat Alien', 'Big Fat Simulations Inc.', 'Big Finish Games', 'Big Huge Games,38 Studios', 'Big Robot Ltd', 'BigAnt Studios', 'Binary Fortress Software', 'Binary Zoo,The Game Creators', 'BioWare', 'BioWare Corporation', 'BioWare,Aspyr (Mac)', 'BitFinity', 'BitMonster, Inc.', 'Bitbox Ltd.', 'Bithell Games', 'Bitl,Cobalt-57', 'Bizarre Creations', 'Black Death Apps Limited', 'Black Element', 'Black Eye Games', 'Black Forest Games', 'Black Isle Studios', 'Black Jacket Studios', 'Black Lion Studios', 'Black Pants Studio', 'Black Sea Studios Ltd', 'Black Shell Games', 'BlackSpot Entertainment', 'Blackbird Interactive', 'Blackfire Games', 'Blackhole', 'Blacklight Interactive', 'Blackpowder Games', 'BlankMediaGames', 'Blazing Griffin', 'Blender Foundation', 'Blendo Games', 'Blind Sky Studios', 'BlinkWorks Media', 'Blit Software', 'Bloober Team SA', 'Blooming Buds Studio', 'Blue Bottle Games', 'Blue Byte', 'Blue Byte,Related Designs', 'Blue Isle Studios', 'Blue Mammoth Games', 'Blue Manchu', 'Blue Tea Games', 'BlueEagle Productions', 'BlueGiant Interactive', 'BlueLine Games', 'Bluebutton Games', 'Bluehole Ginno Games', 'Bluehole, Inc.', 'Bob the Game Development Bot', 'Bohemia Interactive', 'Bombservice', 'Boneloaf', 'Bongfish GmbH', 'Boolat Games,Alawar Entertainment', 'Boomzap Entertainment', 'Born Ready Games', 'Born Ready Games Ltd.', 'Boss Baddie', 'Bossa Studios', 'Brace Yourself Games', 'Brain Bombers', 'Brainbox Software', 'Brainchild', 'Brainy Studio LLC', 'Brawsome', 'Breakfall', 'Brian Cronin', 'Brightrock Games', 'Brilliant Skies Ltd.', 'Broken Rules', 'Bromoco Games', 'Browny Application', 'Brytenwalda', 'Buddy Cops, LLC', 'Bugbear', 'Bugbear Entertainment', 'Bugbyte Ltd.', 'Bulbware', 'BumpkinBrothers', 'BurstRay Games', 'Burut CT', 'Butterscotch Shenanigans', 'Bytebin', 'C3SK', 'CAPCOM', 'CAPCOM CO., LTD.', 'CAPCOM Co., Ltd.', 'CAT IN JAR GAMES', 'CAVE Interactive CO.,LTD.', 'CCCP', 'CCP', 'CD PROJEKT RED', 'CD PROJEKT RED,Can Explode', 'CI Games', 'CI Games,Deck 13', 'CINEMAX, s.r.o.', 'CM Softworks', 'CRASS Studios', 'CRAZYDIAMOND CO., LTD.', 'CSR-Studios', 'Cabygon', 'Cadence Games', 'Cadenza Interactive', 'Camouflaj', 'Campo Santo', 'Camshaft Software', 'Capcom', 'Capcom Game Studio Vancouver', 'Capcom U.S.A., Inc.', 'Capcom Vancouver', 'Cape Copenhagen', 'Capybara Games', 'Capybara,Superbrothers,Jim Guthrie', 'Carbine Studios', 'Carbon Games', 'Cardboard Keep', 'Carlsen Games', 'Carmine T. Guida', 'Cat5Games', 'Cauldron', 'Cavedog Entertainment', 'Cellar Door Games', 'Celsius Game Studios', 'Centauri Production', 'Chad Close,Kyle Weik', 'Chaosoft Games', 'Charyb Games', 'Chasing Carrots', 'Cherry Pop Games', 'Childish Things', 'Choice Provisions', 'Choice of Games', 'Chondrite Games', 'Chris Sawyer Productions', 'Chucklefish', 'Cipher Prime Studios', 'Circle Five Studios,Pub Games', 'City Interactive', 'CivilSavages', 'Clapfoot', 'Clever Endeavour Games', 'ClickGames', 'Clickteam', 'Cliffhanger Productions', 'Cliffhanger Productions,Catalyst Games Lab', 'Climax Studios', 'ClockStone', 'Cloud 9 Studio', 'Cloudcade, Inc.', 'CoaguCo Industries', 'Cobra Mobile', 'Cockroach Inc.', 'Cococucumber', 'Code Club AB', 'CodeBrush Games', 'Codemasters', 'Codemasters Action Studio', 'Codemasters Birmingham', 'Codemasters Digital', 'Codemasters Racing,Feral Interactive (Mac)', 'Codemasters Racing,Feral Interactive (Mac),Feral Interactive (Linux)', 'Codemasters Studios', 'Codemasters,Feral Interactive (Linux)', 'Codemasters,Feral Interactive (Mac)', 'Codename Entertainment Inc.', 'Code}{atch', 'Coffee Stain Studios', 'Cold Beam Games', 'Colibri Games', 'Colonthree Enterprises', 'Colossal Games', 'Colossal Order Ltd.', 'Comcept,Inti Creates', 'ComiPo! LLP', 'Compulsion Games', 'ConcernedApe', 'Conrad Nelson', 'Convoy Games', 'Core Design', 'Coredumping', 'Coreplay GmbH,Bigmoon Studios', 'Corrosive Studios LLC', 'Cosmic Cow LLC', 'Counterplay Games Inc.', 'Crackpot Entertainment', 'Crackshell', 'Crankshaft Games', 'Crate Entertainment', 'Crazy Moo Games', 'Crazy Viking Studios', 'CreSpirit,GemaYue', 'Creability', 'Creat Studio', 'Creative Assembly', 'Creative Assembly, PC Port - Hardlight', 'Creative Assembly,Feral Interactive (Linux),Feral Interactive (Mac)', 'Creative Assembly,Feral Interactive (Mac),Feral Interactive (Linux)', 'CreativeForge Games', 'Creepy Cute', 'Crescent Moon Games,Cinopt Studios', 'Crian Soft', 'Criterion Games', 'Critical Studio', 'Croteam', 'Croteam,Alligator Pit', 'Crowbar Collective', 'Crows Crows Crows', 'Cryptic Sea', 'Cryptic Studios', 'Crystal Dynamics', 'Crystal Dynamics,Feral Interactive (Mac)', 'Crystal Dynamics,Feral Interactive (Mac),Feral Interactive (Linux)', 'Crystal Shard', 'Crytek', 'Crytek Studios', 'Curve Digital,FuturLab', 'Curve Studios', 'Cyan Worlds', 'Cyanide', 'Cyanide Montreal', 'Cyanide Studio', 'Cyanide Studio - Spiders Studios', 'Cyanide Studios', 'CyberConnect2 Co. Ltd.', 'CyberConnect2 Co., Ltd.', 'Cyberdreams', 'Cyberlore', 'Cybertime System', 'D-Pad Studio', 'DEADFACTORY', 'DEVGRU-P', 'DICE', 'DIMPS', 'DL Softworks', 'DONTNOD Entertainment', 'DONTNOD Entertainment,Feral Interactive (Mac),Feral Interactive (Linux)', 'DR Studios', 'Daedalic Entertainment', 'Damaged', 'Dambuster Studios', 'Damian Sommer,Emily Carroll', 'Dan  Walters,Ceri Williams', 'Dan Fornace', 'Dan Walters', 'Dancing Dragon Games', 'Daniel Davies', 'Daniel Jonathan Bourke', 'Daniel Mullins Games', 'Daniel Snd,Thiago Adamo', 'Darius Bode', 'Dark Amber Softworks', 'Dark Artz Entertainment', 'Dark Day Interactive', 'Dark Energy Digital Ltd.', 'DarkElite', 'Darklight Games', 'Data Realms', 'David Mulder', 'David OReilly', 'David Stark', 'David Szymanski', 'David Williamson', 'Dawid Bujak', 'Day 1 Studios', 'Daybreak Game Company', 'Days of Wonder', 'DeXP', 'Dead Mage', 'Dead Shark Triplepunch', 'Decent Machine', 'Deck13', 'Deck13 Hamburg', 'Deconstructeam', 'Deep Red Limited', 'Deep Silver Volition', 'Deep Silver Volition,High Voltage Software', 'Deepred', 'Defence Alliance Team', 'Defiant Development', 'Deion Mobile', 'Dejobaan Games, LLC', 'Dekovir Entertainment', 'Demiurge Studios', 'Dennaton Games', 'Denver Productions', 'Desert Owl Games LLC', 'Destructive Creations', 'Devespresso Games', \"Devil's Details\", 'Dharker Studio', 'DiezelPower', 'Digerati Distribution', 'DiggerWorld Ltd.', 'Digital Arrow', 'Digital Confectioners', 'Digital Dawn Studios', 'Digital Extremes', 'Digital Furnace Games', 'Digital Happiness', 'Digital Leisure Inc.', 'Digital Melody', 'Digital Tentacle', 'Digitalmindsoft', 'Diminished Studios', 'Dimmdrive Inc.', 'Dingaling', 'Dingo Games', 'Dinosaur Polo Club', 'Dischan Media', 'Disney Interactive', 'DnS Development', 'Doctor Entertainment AB', 'Dodge Roll', 'Dogenzaka Lab', 'DolphinBarn', 'Dominique Grieshofer', 'Doomster Entertainment', 'DotEmu', 'Double Action Factory', 'Double Damage Games', 'Double Eleven,Q-Games Ltd.', 'Double Fine Productions', 'Double Helix Games', 'Double Helix Games,Capcom', 'Double Helix Games,Rainbow Studios,THQ Nordic', 'DoubleBear Productions', 'DoubleDutch Games', 'Doublesix Games', 'Dovetail Games', 'Dragonfly', 'Dragonfly GF Co., LTD', 'DreaMory', 'Dreadbit', 'Dream Reactor', 'Dreampainters', 'DrinkBox Studios', 'Drixy Games', 'Droqen', 'Dry Cactus', 'Ductape studio', 'Duelboot', 'Dumativa Creative Studio,Castro Brothers', 'Dylan Fitterer', 'EA - Maxis', 'EA - Maxis,Aspyr (Mac)', 'EA Black Box', 'EA Los Angeles', 'EA Redwood Shores', 'ES Team', 'ESTsoft Corp.', 'EVGA', 'EXE-CREATE', 'EXOR Studios', 'Eagle Dynamics SA', 'EasyAntiCheat Ltd', 'EasyGameStation', 'Eat Create Sleep', 'Ed Key and David Kanaga', 'Edelweiss', 'Eden Games,Hydravision Entertainment', 'Eden Industries', 'Edge Case Games Ltd.', 'Edge of Reality', 'Edmund McMillen and Florian Himsl', 'Edmund McMillen, Florian Himsl', 'Edmund McMillen,James Id', 'Edmund McMillen,Tyler Glaiel', 'Eforb', 'Egamea Game Studios', 'Eggcode', 'Eggtooth Team', 'Egosoft', 'Eidos Interactive', 'Eidos Montreal,Feral Interactive (Linux),Feral Interactive (Mac)', 'Eidos Montreal,Feral Interactive (Mac)', 'Eidos Studio Hungary', 'Eidos-Montréal,Feral Interactive (Mac)', 'EightyEightGames', 'Eko Software', 'Ekuator Games', 'ElagoTech', 'Elder Games', 'Elecorn', 'Electronic Arts', 'Eleon Game Studios', 'Elias Viglione,Jussi Kukkonen', 'Elijah Newman-Gomez', 'Elite Games Team', 'Elixir Studios', 'Elliptic Games', 'Emmanuel Salva Cruz', 'Empires', 'Empty Clip Studios', 'Endgame Studios', 'Endless Loop Studios', 'Endnight Games Ltd', 'Ensemble Studios', 'EnsenaSoft', 'Entheogen Studios LLC', 'Entity Medialab', 'Entrada Interactive LLC', 'Epic Games, Inc.', 'Epiphany Games', 'Eren Aydın', 'Eric Chahi,DotEmu', 'Eric Hartman,Ben Garney,Anthony Rotondo', 'Eric Provan - Ayyo Games', 'Erik Asmussen', 'Erik Svedäng,El Huervo / Niklas Åkerblad,Tobias Sjögren,Oscar \"Ratvader\" Rydelius,Johannes Gotlén', 'Ethrea Dreams', 'Eugen Systems', 'Eurocom', 'Evan Todd', 'Everything Unlimited Ltd.', 'Evgenii Gubanov', 'Evgeny Shcherbakov,Denis Ovsyannikov', 'Evil Tortilla Games', 'Evil Twin Artworks', 'ExDream GmbH', 'Exato Game Studios', 'Exato Games Studio', 'Excalibur', 'Exe Games Inc.', 'Exor Studios', 'Expansive Worlds,Avalanche Studios', 'Extend Studio', 'Extrokold Games', 'Eyebrow Interactive', 'Eyedentity Games Inc.', 'Eyemobi Ltd.', 'Eyzi', 'FIVE-BN GAMES', 'FIX Korea, Co.LTD,FIX Games, Co. LTD', 'FOAM Entertainment', 'FRENCH-BREAD', 'Fabio Ferrara', 'Fabio Ferrara,Davide Caio,Nicolò Azzolini,Antonio Carcagnì,Luigi Di Guida,Tommaso Vita', 'Fabio Ferrara,Giulia Airoldi', 'Facepunch Studios', 'Factor 5,LucasArts', 'Failbetter Games', 'Fallen Snow Studios', 'Fancy Bytes, Reactor', 'Fancy Fish Games', 'FarSight Studios', 'Farsky Interactive', 'Fatshark', 'Fayju', 'Fermenter Games', 'Fervent', 'Fictiorama Studios', 'Fiddlesticks Games', 'Filip Victor,Valve', 'Final Boss Entertainment', 'Final Form Games', 'Finji,Kittehface Software', 'Firaxis Games', 'Firaxis Games,Aspyr (Mac, Linux)', 'Firaxis Games,Feral Interactive (Mac)', 'Firaxis Games,Feral Interactive (Mac),Feral Interactive (Linux)', 'Firaxis,Feral Interactive (Mac and Linux)', 'Firaxis,Feral Interactive (Mac),Feral Interactive (Linux)', 'FireFly Studios', 'Firebase Industries Ltd.', 'Firemint', 'Fireproof Games', 'Fishcow Studio', 'Fishing Cactus', 'Fishing Planet LLC', 'Fishlabs Entertainment GmbH', 'Fistful of Frags Team', 'Fixpoint Productions Ltd.', 'Flashback Games,The Lordz Games Studio', 'Flox Studios Ltd.', 'Flump Studios', 'FlyAnvil', 'Flying Cafe for Semianimals', 'Flying Helmet Games', 'Flying Wild Hog', 'Flyleap Studios', 'Flyleap Studios Pty. Ltd.', 'Focus Home Interactive', 'Forbes Consult Ltd', 'Force Of Habit', 'Forever Entertainment S. A.', 'Fortress Forever Development Team,Trepid Studios', 'Four Quarters', 'FourbitFriday', 'Fractal Phase', 'FreakZone Games', 'Freakinware Limited', 'Freakinware Studios', 'Fred Wood', 'Free Games Info,hyperboreanGames', 'Free Lives', 'Free Reign Entertainment', 'Freebird Games', 'Freegamer', 'Freejam', 'FreezeNova', 'Fresh3D', 'Frictional Games', 'Frima Studio', 'Frogames', 'Frogdice', 'Frogshark', 'Frogsong Studios AB', 'Frogwares', 'FromSoftware', 'FromSoftware, Inc', 'FromSoftware, Inc.', 'Frontier Developments', 'Frontier,Aspyr (Mac)', 'Frontwing', 'Frozenbyte', 'Fugazo', 'Full Control', 'Full Control Studios', 'FullPowerSideAttack.com', 'Fullbright', 'Fun Sponge Games', 'Funcom', 'Funselektor Labs Inc.,FlippFly', 'Furiously Inactive Games', 'Futuremark', 'G-OLD', 'G-TraX', 'G2CREW', 'GAME ARTS Co., Ltd.,SkyBox Labs', 'GDT Limited', 'GNISoft', 'GSC Game World', 'GTGD', 'GabberGames.com', 'Gaijin Entertainment', 'Gaijin Entertainment Corporation', 'Gaijin Games', 'Galactic Cafe', 'GalaxyTrail', 'Gambrinous', 'Game Dev Castle', 'Game Distillery s.r.o.', 'Game Mechanics', 'Game in a Bottle', 'Game-Labs', 'GameArt Studio GmbH', 'GameConnect,InterWave Studios', 'GameCrafterTeam', 'GameORE', 'GamePrix', 'GameUS Inc', 'GameUS Inc.', 'Gamebryo,Virtual Playground', 'Gamepires', 'Games by Robert, LLC', 'Gaming Minds', 'Gaming Minds Studios', 'Gamious', 'Ganz', 'Gas Powered Games', 'Gaslamp Games, Inc.', 'Gatling Goat Studios', 'GearBox Software,Aspyr (Mac &amp; Linux)', 'Gearbox Software', 'Gearbox Software,Aspyr (Mac &amp; Linux)', 'Gearbox Software,Aspyr (Mac)', 'Geek Sloth Games', 'Genee Network', 'General Arcade', 'Genetix Studio', 'Geniaware Srl', 'Geoff \"Zag\" Keene', 'Ghost Town Games Ltd.', 'GhostShark', 'Giant Army', 'Giant Squid', 'Giants Software', 'Ginger Labs LLC', 'Gl33k', 'Glass Knuckle Games', 'GlyphX Games', 'Going Loud Studios', 'Goldhawk Interactive', 'GolemLabs', 'Gone North Games', 'Good Games', 'Gravity Interactive', 'Gravity, Inc.', 'Gravvit Ltd,Forbes  Consult Ltd', 'Gray Matter Studios', 'Great War Team', 'Green Lava Studios', 'Greenheart Games', 'Gremlin Interactive', 'Grey Alien Games', 'Grey Havens', 'Grip Games', 'Gromada,Buka Entertainment', 'Grynsoft', 'Gunfire Games,Vigil Games,THQ Nordic', 'Guru Games', 'HANBITSOFT, INC.,IMC GAMES CO.,LTD.', 'HE SAW', 'Haemimont Games', 'Haemimont Games,Feral Interactive (Mac)', 'Halfbus', 'Halissoni', 'Halycon Media GmbH &amp; Co. KG', 'Hammer Labs', 'Hammerfall Publishing', 'Hanako Games', 'HandMade Game', 'Handyman Studios', 'Hardsuit Labs', 'Harebrained Schemes', 'Harvester Games', 'Hassey Enterprises, Inc.', 'HeR Interactive', 'Headup Games / Crenetic', 'Headup Games / Radon Labs', 'Heart Machine', 'Heartbit Interactive', 'Hellbent Games', 'Hello Games', 'Hello There AB', 'Hemisphere Games', 'Henrique Pegacha,Rafael Lima,Nuno Guerreiro', 'Hesketh Studios', 'Hexage', 'Heydeck Games', 'Hi-Rez Studios', 'Hidden Path Entertainment', 'High Impact Games', 'Hinterland Studio Inc.', 'Hipix Studio', 'Hippomancer', 'Hitbox Team', 'Hitcents', 'Holotech Studios', 'Holy Priest', 'Holy Warp,Black Wing Foundation', 'Home Net Games', 'Hoobalugalar_X', 'Hopoo Games, LLC', 'Hosted Games', 'Hostel Games', 'Hothead Games', 'House On Fire', 'House of Tales', 'Housemarque', 'Humble Hearts LLC', 'Humongous Entertainment', 'HuniePot', 'Hunted Cow Studios', 'Hydravision Entertainment', 'Hyper Hippo Games', 'HyperSloth', 'Hypercane Studios', 'Hörberg Productions', 'I Fight Bears', 'ICE Entertainment', 'IDEA FACTORY Co., Ltd.,COMPILE HEART Co., Ltd.,FELISTELLA Co., Ltd.', 'IDHAS Studios', 'IF Studios', 'IMCGAMES Co.,Ltd.', 'IMGN.PRO', 'IO Entertainment', 'IO Interactive', 'IO Interactive A/S,Feral Interactive (Linux),Feral Interactive (Mac)', 'IPACS', 'ISOTX', 'Ian Campbell', 'Ice Water Games', 'Ice-Pick Lodge', 'Ice-Pick Lodge,General Arcade', 'Icetesy SPRL', 'Idea Factory', 'Idea Factory,Compile Heart', 'Idea Factory,Compile Heart,Felistella', 'Idea Factory,Compile Heart,Sting', 'Idea Factory,Compile Heart,Tamsoft', 'Idea Factory,Design Factory', 'Idigicon', 'Idol FX', 'Igry.ru', 'Iguana Entertainment,Nightdive Studios', 'IllFonic', 'Illwinter Game Design', 'Imaekgames [Imaek Limited]', 'Image &amp; Form', 'Immersive Douro', 'Incandescent Games', 'Inferno Games', 'Infinite Interactive', 'Infinite Monkeys Entertainment Ltd.', 'Infinity Plus 2', 'Infinity Ward', 'Infinity Ward,Aspyr (Mac)', 'Ink Stains Games', 'Innocent Grey', 'Ino-Co', 'Ino-Co Plus', 'Instant Kingdom', 'Insurgency Development Team', 'InterAction studios', 'Interceptor Entertainment', 'Interdimensional Games Inc', 'Interplay Inc.', 'Introversion Software', 'Invent4 Entertainment', 'InvertMouse', 'Invictus-Games LLC.,ImageCode LLC.', 'Io-Interactive A/S', 'Io-Interactive A/S,Feral Interactive (Linux),Feral Interactive (Mac)', 'Io-Interactive A/S,Feral Interactive (Mac)', 'Ion Storm', 'IonFX', 'IonFx', 'Iridium Studios', 'Iron Galaxy Studios, LLC', 'Iron Tower Studio', 'Ironclad Games,Stardock Entertainment', 'Ironhide Game Studio', 'Ironsun Studios', 'Irrational Games', 'Irrational Games,Aspyr (Mac),Virtual Programming (Linux)', 'Irrational Games,Looking Glass Studios', 'Italic Pig', \"Ivan Zanotti's MyMadness Works\", 'Ivory Tower in collaboration with Ubisoft Reflections', 'JAVELIN OÜ', 'JCKSLAP', 'JDM4iK', 'JE Software', 'JForce Games', 'JIW-Games', 'Jackbox Games, Inc.', 'Jae Lee Productions', 'Jagex', 'Jagex Limited', 'Jagex,Artplant', 'Jarhead Games', 'Jason Oda', 'Jason Rohrer', 'Jasper Byrne', 'JetCat Games', 'Jetdogs Studios,Zoom Out Games', 'Jimbob Games', 'JoWooD Vienna', 'Johannes Eski', 'John Cullen', 'John Szymanski', 'John Wizard', 'Jon Gallant', 'Jon Sudbury Games', 'Jonathan Wood', 'Josh Koenig (Slashandz)', 'Joshua Neurnberger', 'Joycity', 'Juicy Beast Studio', 'Jujubee S.A.', 'JumpCore Productions', 'JumpStart Games, Inc.', 'Jundroo, LLC', 'Jurlo,JetPackGone', 'Just Add Water (Developments), Ltd.', 'K Bros Games', 'KADOKAWA', 'KADOKAWA GAMES / GRASSHOPPER MANUFACTURE', 'KADOKAWA,Yoji Ojima', 'KHB-Soft', 'KING Art', 'KITATUS STUDIOS', 'KIXEYE', 'KOEI TECMO GAMES CO., LTD.', 'KOG', 'Kaos Studios', 'Kaos Studios,Digital Extremes', 'Katapult', 'Katauri', 'Katauri Interactive', 'Keen Games', 'Keen Software House', 'Keinart Lobre', 'Kerberos Productions', 'Kerberos Productions Inc.', 'Kew McParlane', 'Key17 Games', 'Kheops Studio', 'Kiddy', 'KillHouse Games', 'Killmonday Games AB', 'Kinelco &amp; Lone Elk Creative', 'KintoGames', 'Kitfox Games', 'Kittehface Software', 'Klace', 'Klei Entertainment', 'Klei Entertainment,Capybara Games', 'Kloonigames', 'Knuckle Cracker', 'Koboldgames,Daedalic Entertainment', 'Koga Tech Limited', 'Kojima Productions', 'Konami Digital Entertainment', 'Konsordo', 'Konstantin Koshutin', 'Kot in Action Creative Artel', 'Krillbite Studio', 'Krome Studios', 'Kronosaur Productions', 'Kudosoft', 'Kukouri', 'Kumobius', 'Kuno Interactive', 'Kyle Seeley', 'Kylotonn Entertainment', 'Kylotonn Racing Games', 'LDC Studios', 'LGK Games', 'LUCKY GIRLS LIMITED', 'LWNA', 'Lab Zero Games', 'Labyrinthine', 'Lag Studios', 'Lamina Studios,Mike Studios', 'Laminar Research', 'Landfall', 'Landon Podbielski', 'Lapovich', 'Larian Studios', 'Laser Guided Games, LLC', 'Last Day of Work', 'Last Dimension', 'Last Limb LLC', 'Lavaboots Studios', 'Lazy 8 Studios', 'Lazy Bear Games', 'Lazy Bum Games', 'Lazy Monday Games', 'League of Geeks', 'Legend Studio', 'Lemondo Entertainment', 'Lemonsucker Games', 'Lesley Dodd', 'Lesta Studio', 'Level Up Labs, LLC', 'Liar-soft', 'Lightbulb Crew', 'Lighthouse Games Studio', 'Lightmare Studio', 'Lightmare Studios', 'Limasse Five', 'Limbic Entertainment', 'Lino Slahuschek', 'Lion Game Lion,OVERKILL - a Starbreeze Studio.', \"Lion's Shade\", 'Lionhead Studios', 'Lionheart Creations', 'Little Big Lee', 'Little Freedom Factory', 'Little Green Men Games', 'Locomotivah', 'Logic Artists', 'Lonely Troops', 'Looking Glass Studios', 'Lord Kres', 'Loren Lemcke', 'Lost Decade Games', 'Love Conquers All Games', 'LuGus Studios', 'Luc Bernard,SilverSphereStudios', 'LucasArts', 'LucasArts,Aspyr Studios', 'Lucasfim', 'Lucid Games,Aspyr (Mac &amp; Linux)', 'Lucky Frame', 'Ludeon Studios', 'Ludosity', 'Ludosity,Remar Games', 'Luke Cripps', 'Lukewarm Media', 'Lunar Giant', 'M2 Co.,LTD', 'M2H,Blackmill Games', 'MAGES. Inc.', 'MAGIX Software GmbH', 'MEGAFUZZ', 'MOONSTONE', 'MR-Software GbR', 'MURA Interactive', 'Machine 22', 'Machine Games', 'MachineGames', 'MachineSpirit', 'Maciej Targoni,Wojciech Wasiak', 'Mad Otter Games', 'Madruga Works', 'Magic Notion', 'MagicalTimeBean', 'Malfador Machinations', 'Mana Games', 'Manic Game Studios', 'Manuel Pazos,Daniel Celemín', 'Marie Ronnaux Games', 'Mario von Rickenbach,Michael Frei', 'Martin Ivanov', 'Marvelous, Inc.', 'Marxnet', 'Masangsoft, Inc.', 'Maschinen-Mensch', 'Massive Damage, Inc.', 'Massive Entertainment', 'Masthead Studios Ltd', 'Matt Kap,Nicalis, Inc.', 'Matt Roszak', 'Matt Thorson', 'Matthew Brown', 'Maxime Vézina', 'Maxis™', 'Mechanist Games', 'Mediatonic,Hato Moa,The Irregular Corporation', 'Mediatonic,The Irregular Corporation', 'Megadev', 'Memetic Games', 'MercurySteam', 'MercurySteam - Climax Studios', 'Meridian4', 'Messhof', 'Metanet Software Inc.', 'Meteoric Games', 'Michael Flynn', 'Michael Todd Games', 'Michael Todd Games,Yazar Media Group LLC', 'Michael Zahniser', 'Michaela Laws', 'MicroProse Software, Inc', 'Microblast Games', 'Microsoft Game Studios', 'MidBoss, LLC.', 'Midgar Studio,Fusty Game', 'Might and Delight', 'Mighty Rabbit Studios', 'Mighty Rabbit Studios,Gun Media', 'Mighty Rabbit Studios,Gun.', 'Mighty Rocket Studio', 'Mihai Morosanu', 'Milan Kazarka,Jeroen van Oosten', 'Milestone S.r.l.', 'Milkstone Studios', 'Mimimi Productions', 'MinMax Games Ltd.', 'Mindstorm Studios', 'Mine Loader Software Co., Ltd.', 'MiniBoss', 'Minor Key Games', 'Minority Media Inc.', 'Minskworks', 'Mint Age Studios', 'Mirillis', 'Mirko Seithe', 'Misfits Attic', 'Mithis Games,THQ Nordic', 'Mixamo', 'MoaCube', 'MobileBits', 'Mode 7', 'Modern Dream', 'MoeNovel', 'Mohawk Games', 'Mojang', 'Mokus', 'Moment Studio', \"Mommy's Best Games\", 'Monkeys Tales Studio', 'Monochrome, Inc', 'Monolith', 'Monolith Productions', 'Monolith Productions, Inc.', 'Monolith Productions, Inc.,Feral Interactive (Mac),Feral Interactive (Linux)', 'Monolith Productions, Inc.,Timegate', 'Monolith Productions,Feral Interactive (Mac),Feral Interactive (Linux)', 'Monomi Park', 'Moon Studios GmbH', 'Moonlite Software', 'Moppin', 'Most Wanted Entertainment', 'Mouldy Toof Studios', 'Mountain Sheep', 'MovingBlocks', 'Mr. Blue', 'MuHa Games', 'Murudai', 'Muse Games', 'Muzzy Lane Software', 'Myrtilus Entertainment', 'Mystic Games', 'N3V Games', 'NAMCO', 'NAMCO BANDAI Games', 'NEXON Korea Corp.', 'NGD Studios', 'NIGORO', 'NIKITA ONLINE', 'Nabi Studios', 'Nacho Games', 'Nadeo', 'Naiad Entertainment LLC', 'Nate Schmold', 'Nauris Amatnieks', 'Ndemic Creations', 'Necrophone Games', 'Neko Entertainment', 'Nemesys Games', 'NeoCoreGames', 'Neoclassic Games', 'NeocoreGames', 'Neople', 'Nerd Kingdom Inc.', 'Nerdook Productions', 'Nerial', 'Net Games Laboratory', 'Netcore Games', 'NetherRealm Studios', 'NetherRealm Studios,High Voltage Software', 'Netmarble Games', \"Never Don't Play\", 'Neversoft', 'New World Interactive', 'Nexon', 'Nicalis, Inc.', 'Nicalis, Inc.,Edmund McMillen', 'Nickervision Studios', 'Nicolas Bernard', 'Niffler Ltd.', 'Night Node', 'Night School Studio', 'Nihon Falcom', 'Nikita', 'Nimbly Games', 'Nina Freeman,Emmett Butler,Decky Coss,Joni Kittaka', 'Nina Freeman,Laura Knetzger,Stephen Lawrence Clark', 'Nine Dots Studio', 'Ninja Kiwi', 'Ninja Robot Dinosaur', 'Ninja Theory', 'Nival', 'No Brakes Games', 'No More Room in Hell Team', 'Noah System,Mgame', 'Noble Empire Corp.', 'Noble Master LLC', 'Nocturnal works', 'Noio', 'Noio,Licorice', 'Nom Nom Games', 'Nomad Games', 'North of Earth', 'Northway Games,Sarah Northway', 'NotGames', 'Noumena Studios', 'Nova Dimension,Naga Entertainment', 'NovaLogic', 'Novel Tea Games', 'Noviy Disk,Lesta Studios Inc', 'Numantian Games', 'Number None', 'Numinous Games', 'Nvizzio Creations', 'Nyamyam', 'OCCA Studios', 'OCR Dev Team,Onur Uça', 'OVERDRIVE', 'OVERKILL - a Starbreeze Studio.', 'OVERKILL Software', 'Obsidian Entertainment', 'Obsidian Entertainment,Aspyr (Mac, Linux, &amp; Windows Update)', 'Octoshark Studios', 'Oddworld Inhabitants', 'Odin Game Studio', 'Offworld Industries', 'OhNoo Studio', 'Old B1ood', 'Old School Games', 'Olde Sküül,Sculptured Software', 'Oleg Sergeev,Andrey Rumak,Do My Best', 'Olli Harjola, Otto Hantula, Tom Jubert, Carlo Castellano', 'Omniconnection', 'On The Level Game Studios', 'Onson Soft', 'Oovee® Game Studios', 'Opus', 'OrangeGames,YoudaGames', 'Orange_Juice', 'Orbital Knight', 'Oreol', 'Organic Humans', 'Orion Games', 'Orlyapps', 'Orthogonal Games', 'Oryx Design Lab', 'Oscar Brittain', 'Ostrich Banditos', 'Osumia Games', 'Other Ocean Interactive', 'Outerlight Ltd.', 'Outerminds Inc.', 'Over The Moon', 'Over the Top Games', 'Overhype Studios', 'Owl Cave', 'Owlbear', 'Owlchemy Labs', 'Oxeye Game Studio', 'Oxide Games', 'PERFECT PARALLEL', 'PIXOWL INC.', 'PIXYUL', 'Pandemic Studios', 'Panzer Gaming Studios', 'Paradox Development Studio', 'Parallaxian Pty Ltd', 'Passtech Games', 'Pathea Games', 'Paul Bird', 'Paul Fisch', 'Payload Studios', 'Peach Pie Productions', 'Peacock Dreams Games', 'Pencil Test Studios', 'PestoForce', 'Peter Brinson and Kurosh ValaNejad', 'Peter Moorhead', 'Petit Depotto', 'Petroglyph', 'Phenomenon Games', 'Phigames', 'Phoenix Game Studio', 'Phoenix Online Studios', 'Phoenix Studio', 'Phosphor Games Studio', 'Photon Arena', \"Phr00t's Software\", 'PiGravity', 'Pieces Interactive', 'Pilgrim Adventures,GrabTheGames Studios', 'PillowPigGames', 'Pinokl Games,Kverta', 'Pinterac', 'Pipeworks Studio', 'Piranha Bytes', 'Piranha Games Inc.', 'Pirozhok Studio,Vitaliy Ruzankin', 'Pivotal Games', 'Pixbits', 'Pixel Dash Studios, EQgames', 'Pixel Federation', 'Pixel Ferrets', 'PixelFade Inc', 'PixelTail Games', 'Pixeljam', 'PlatinumGames', 'PlayFlock', 'PlayWay S.A.', 'Playata GmbH', 'Playbrains', 'Playdead', 'Playsaurus', 'PlazSoft', 'Plethora-Project LLC', 'Pocketwatch Games', 'Point Five Projects', 'Polar Motion', 'PolarityFlow,Adrian Zingg', 'PolyKid', 'PolyPusher Studios', 'Polytron Corporation', 'PopCap Games, Inc.', 'PopTop Software,BreakAway Games,Frog City Software', 'Poppermost Productions', 'Portalarium', 'Positech Games', 'PostMod Softworks', 'Power of 2', 'Powerhoof', 'Praxia Entertainment Inc', 'Press Play', 'Pribuni', 'Primal', 'Priority Interrupt', 'Prism Game Studios Ltd.', 'ProjectorGames', 'Prospect Games', 'Proton Studio Inc', 'Proxy Studios', 'Psychic Software', 'Psyonix, Inc.', 'Puny Human', 'Puppygames', 'Pwnee Studios', 'Pyro Studios', 'Q-Games Ltd.', 'QCF Design', 'QUICKTEQUILA', 'QUICKTEQUILA,Calum Bowen', 'Qooc Software', 'Quantic Dream', 'Quantized Bit', 'Quantumfrog', 'Question', 'Quickfire Games', 'Qwiboo Ltd', 'REMIMORY', 'REX', 'Racing Bros', 'Radial Games Corp,Dejobaan Games, LLC', 'Radial Games Corp,Loren Bednar,Dr. Kimberly Voll,Lindsay Jorgensen', 'Radiant Entertainment', 'Radical Entertainment', 'Radical Fish Games', 'RageSquid', 'Ragequit Corporation', 'Ragiva Games e.K.', 'Rail Slave Games', 'Rain Games', 'Rainbow Games', 'Rainbow Studios,THQ Nordic', 'Rake in Grass', 'Raptor Claw Games', 'Ratloop Asia', 'Raven Software,Aspyr (Mac)', 'Raven Travel Studios', 'Raylight Games', 'Razorworks', 'Razvan', 'Re-Logic', 'Reactor Zero', 'Reakktor Studios', 'Real Dynamics', 'Reality Pump', 'Reality Pump Studios', 'Realmforge Studios', 'Rebellion', 'Recoil Games', 'Red Abyss Software', 'Red Barrels', 'Red Duck Inc.', 'Red Dwarf Games', 'Red Hook Studios', 'Red Nettle Studio', 'Red Storm Entertainment', 'Red Storm Entertainment,Ubisoft Montreal', 'Red Team Games', 'Red Thread Games', 'RedLynx, in collaboration with  Ubisoft Shanghai, Ubisoft Kiev', 'Redlynx', 'Redlynx Ltd,Ubisoft  Shanghaï', 'Redshift', 'Redwood Games', 'Reentry Games', 'Reflect Studios', 'Reflextions', 'Reiza Studios', 'Relic', 'Relic Entertainment', 'Relic Entertainment,Europe at War Development Team', 'Relic Entertainment,Feral Interactive (Mac),Feral Interactive (Linux)', 'Relic Entertainment,Feral Interactive (Mac/Linux)', 'Relic Entertainment,THQ Nordic', 'Reloaded Productions', 'Remedy Entertainment', 'Renegade Kid', 'Reperio Studios', 'Replay Studios', 'Reto-Moto', 'Retro Army Limited', 'Retro Yeti Games', 'Retronic Games', 'Reverie World Studios', 'Revolution Software Ltd', 'Rhaon Entertainment', 'Richard Seabrook', 'Rising Star Games', 'Rising Sun Interactive', 'Rival Games Ltd', 'Rob Howland', 'RobTop Games', 'Robot Entertainment', 'Robot Gentleman', 'Robotronic Games', 'Rocket Bear Games', 'Rocketeer Games Studio, LLC', 'Rockstar Games', 'Rockstar New England', 'Rockstar North', 'Rockstar North / Toronto', 'Rockstar San Diego', 'Rockstar Studios', 'Rocksteady', 'Rocksteady Studios', 'Rocksteady Studios,Feral Interactive (Mac)', 'Rocktastic Games', 'Rodeo Games,Twistplay', 'Rogue Entertainment', 'Rogue Factor', 'Rogue Snail', 'Rogue Star,Boreal Sun,Spider,Deadman', 'Roll7', 'Roll7,General Arcade', 'Roman Anatolevich,Denis Ovsyannikov', 'Ronimo Games', 'Room710Games', 'Rooster Teeth Games', 'Rootify', 'Rovio Entertainment Ltd', 'Rsupport Inc.', 'Rubycone', 'Rudolf Kremers &amp; Alex May,Tuna', 'RunServer', 'Rune Forge', 'Runic Games', 'Running With Scissors', 'Russpuppy', 'Rusty Lake', 'S Houben,N Tailor,A Barnett', 'S.C. 16 BIT NIGHTS S.R.L.', 'S2 Games', 'S2 Games, LLC', 'SANDLOT', 'SCS Software', 'SDEnterNet', 'SEGA', 'SEGA Studios Australia,Feral Interactive (Mac)', 'SFB Games', 'SMG Studio', 'SNK CORPORATION', 'SNK CORPORATION,Code Mystics', 'SNK CORPORATION,DotEmu', 'STRIKEWORKS', 'STUDIO RADI-8', 'SUPERHOT Team', 'Saber Interactive', 'Sachonski,Renamilanesi,Sith', 'Sad Panda Studios', 'Sakari Indie', 'Sakari Indie &amp; GriN', 'Sakura River Interactive', 'Sam Atlas', 'Sam Barlow', 'Sami Maaranen (creator),Erkka Lehmus (co-designer)', 'Samurai Punk', 'Sandlot Games', 'Sandswept Studios', 'Santa Ragione', 'Sapphire Dragon Productions', 'Satsu', 'Sauropod Studio', 'Scarlet String Studios', 'Scary Bee LLC', 'Schine, GmbH', 'Scirra', 'Scott Cawthon', 'Screwfly Studios', 'Sean Davy', 'Sebastian Nigro', 'Secret Base', 'Secret Exit Ltd.', 'Section Studios', 'Sector3 Studios', 'SecureMix LLC', 'SeeThrough Studios', 'Semaphore', 'Senscape', 'Separate Game Development,Dagestan Technology', 'Serellan LLC', 'Serenity Forge', 'Serious Brew', 'Shadow Planet Productions', 'Shark Punch', 'ShaunJS', 'Shawn Beck', 'Sherman3D', 'Shield Break Studios', 'Shifty Chair Games', 'Shining Gate Software', 'Shining Rock Software LLC', 'Shiro Games', 'Shiver Games', 'Shokunin,Thomas M. Visser,Vincent Thiele', 'Shorebound Studios', 'Shortbreak Studios s.c.', 'Shumkov Dmitriy', 'Siege Games', 'Sigma Team Inc.', 'Signal Studios', 'Signal Studios,Krome Studios', 'Signal Studios,Smart Ghost', 'Silesia Games Sp. z o.o.', 'Silk Games', 'Silver Dollar Games', 'Silver Wish Games', 'Silverlode Interactive,Wasatch Games', 'SimBin', 'Simogo', 'Simon Roth', 'Sin_Dato', 'SionoiS', 'Sixteen Tons Entertainment', 'Size Five Games', 'Ska Studios', 'Skatanic Studios', 'Sketchy Logic', 'Skinny Jean Death Studios', 'Skobbejak Games', 'Sky Drake Studios', 'Sky Fallen', 'SkyBox Labs,Big Huge Games', 'SkyBox Labs,Forgotten Empires', 'SkyGoblin', 'Skybox Labs,Hidden Path Entertainment,Ensemble Studios', 'Skyjaz Games', 'Slant Six Games', 'Sledgehammer Games,Raven Software', 'SleepNinja Games', 'Sleepy Duck', 'Slightly Mad Studios', 'Sluggerfly', 'Smack Down Productions', 'Small Town Studios', 'Smartly Dressed Games', 'SmashGames', 'Smoking WOLF', 'Smolders', 'Smoodlez', 'Smudged Cat Games Ltd', 'Snails Animation', 'Snapshot Games Inc.', 'SnoutUp', 'SnowFlame,Back To Basics Gaming', 'Snowbird Games', 'Snowblind Studios', 'Soccer Manager Ltd', 'Social Loner Studios', 'SoftStar', 'Solest Games', 'Soloweb Studios,Ravens Eye Studio', 'SomaSim', 'Sometimes You', 'Somi', 'Sonic Team', 'Sorath', 'Sos', 'Soul Forge', 'South East Games', 'Southend', 'Soviet Games', 'Space Boat Studios', 'Space Budgie', 'Space Cat Studios,SnowFlame,Back To Basics Gaming', 'Spaces of Play', 'Spark Plug Games', 'Spark Unlimited', 'Sparpweed,Codeglue', 'Spasman Games', 'Spearhead Games', 'Spectral Games', 'Spellbound Studios', 'Spicy Horse', 'Spicy Tails', 'Spicyhorse Games', 'Spiderling Studios', 'Spidermonk Entertainment', 'Spiders', 'Spiderweb Software', 'Spike Chunsoft Co., Ltd.', 'Spike Chunsoft Co., Ltd.,Abstraction Games', 'Splash Damage', 'Split Polygon', 'Spooky Squid Games Inc.', 'Sports Interactive', 'Sproing', 'Spry Fox LLC', 'Squad', 'Square Enix', 'Square Enix Montréal', 'Square Enix,DotEmu SAS.', 'Stage 2 Studios', 'Stainless Games', 'Stainless Games Ltd', 'Stainless Games Ltd.', 'Stamina-Games', 'Standing Stone Games, LLC', 'Star Gem Inc.', 'Star Maid Games', 'Star Vault AB', 'StarQuail Games', 'StarWraith 3D Games LLC', 'Starbreeze', 'Starbreeze Studios AB', 'Stardock Entertainment', 'State of Play Games', 'Stately Snail', 'Steel Monkeys', 'Stegersaurus Software Inc.', 'Stellar Jockeys,Gausswerks', 'StephenAllen', 'Still Running', 'Stoic', 'Stolen Couch Games', 'Stone Blade Entertainment', 'Storybird', 'Stout Games', 'Straight Right', 'Strange Fire', 'Strange Loop Games', 'Strangely Interactive Ltd', 'Strategy First', 'Streum On Studio', 'Stridemann', 'Strike Games', 'Studio Bean', 'Studio Eres', 'Studio Fizbin', 'Studio Pixel', 'Studio TeamShuriken', 'Studio Whisky Tango Inc.', 'Studio Wildcard,Instinct Games,Efecto Studios,Virtual Basement LLC', 'StudioGIW', 'Stunlock Studios', 'Stygian Software', 'Subatomic Studios LLC', 'Subset Games', 'Subsoap', 'Subvert Games', 'Sumo Digital', 'Sun-Studios', 'Sundae Month', 'Sunlight Games', 'SuperVillain Studios', 'Supergiant Games', 'Supra Games', 'Suspicious Developments', 'Svajūnas Žemaitis', 'Sven Co-op Team', 'Sweet Dog Studios', 'Swing Swing Submarine', 'Switchblade Monkeys Entertainment', 'Synergy Team', 'Syrin Studios,Small Impact Games', 'T3 Entertainment', 'TB Games', 'TERC', 'TML Studios', 'TML-Studios', 'TNT Team', 'TORaIKI', \"TT Fusion,Traveller's Tales,Feral Interactive (Mac)\", 'TT Games', 'TT Games Ltd,Feral Interactive (Mac)', \"TT Games,Traveller's Tales\", 'TURBOGUN', 'Talawa Games', 'Tale of Tales', 'TaleWorlds Entertainment', 'TaleWorlds Entertainment,Flying Squirrel Entertainment', 'Tamationgames', 'Tamsoft', 'Tango Gameworks', 'Targem Games', 'Tasharen Entertainment Inc.', 'Tasty Stewdios LLC', 'Tate Multimedia', 'Team 6 Studios', 'Team Bondi,Rockstar Leeds', 'Team Chaos, LLC', 'Team Chivalry', 'Team Eleven Eleven', 'Team Fractal Alligator', 'Team Indev', 'Team Jolly Roger', 'Team Meat', 'Team Murder', 'Team NINJA,KOEI TECMO GAMES CO., LTD.', 'Team Psykskallar', 'Team Reptile', 'Team17 Digital Ltd', 'Team17 Software Ltd.', 'Team6 game studios B.V.', 'Techland', 'Technetium Games', 'Technomancy Studios', 'Teeworlds Team', 'Telltale Games', 'Tendershoot,A Jolly Corpse', 'Tennen-sozai', 'Teotl Studios', 'Tequila Works, S.L.', 'Terri Vellmann', 'Terrible Posture Games', 'Terry Cavanagh', 'Tesseract Interactive', 'Test3 Projects', 'Teyon', 'The Astronauts', 'The Behemoth', 'The Binary Mill', 'The Chinese Room', 'The Creative Assembly', 'The Creative Assembly,Feral Interactive (Mac)', 'The Creative Assembly,Feral Interactive (Mac),Feral Interactive (Linux)', 'The Dept of Silly Stuff', 'The Farm 51', 'The Game Bakers', 'The Game Kitchen', 'The Glitch Factory', 'The Indie Stone', 'The Men Who Wear Many Hats', 'The Molasses Flood', 'The Odd Gentlemen', 'The Quinnspiracy,Patrick Lindsey,Isaac Schankler', 'The Sims Studio', 'The Tambourine', 'The Working Parts', 'Thekla, Inc.', 'Thomas Bowker', 'Thomas Happ Games LLC', 'Those Awesome Guys', 'Threaks', 'Three Gates', 'Three Rings', 'Thunder Lotus Games', 'TickTock Games', 'Tiger Style', 'Tigerish Games', 'Tilted Mill Entertainment, Inc.', 'Tim Sullivan', 'TimeGate Studios', 'TimeSymmetry', 'Tin Man Games', 'Tindalos Interactive', 'Tlön Studios', 'Tlön Studios,Ilex Games', 'ToMorning Productions', 'Toadman Interactive,Fatshark', 'Toge Productions', 'Tokyo RPG Factory', 'Tom De Roeck', 'Tomasz Wacławek', 'Tomi Maarela,Elias Viglione', 'Tomoaki Sugeno', 'Tomorrow Corporation', 'Torn Banner Studios', 'Totally Games', 'Touz', 'Tragnarion Studios', 'Transcendent Games', 'Transhuman Design', 'Trapdoor Inc.', 'Trashmasters', 'Trav Nash', \"Traveller's Tales\", \"Traveller's Tales,Feral Interactive (Mac)\", \"Traveller's Tales,TT Games,Feral Interactive (Mac)\", 'Travian Games GmbH', 'TreeFortress Games', 'Trek Industries, Inc', 'Trendy Entertainment', 'TrerPlay', 'Trese Brothers', 'Treyarch', 'Triangle Studios', 'Tribe Studios', 'Tribute Games Inc.', 'Trickstar Games', 'Trinoteam', 'Trion Worlds', 'Trion Worlds, Inc.', 'Triple-Star Studio,Rock Path Collective', 'Triple.B.Titles', 'TripleBrick', 'Tripwire Interactive', 'Triumph Studios,Virtual Programming', 'Triverske', 'Troika Games', 'Tuesday Society', 'Tuomo Laine', 'Turbo Pixel Studios', 'Turbo Tape Games', 'Turtle Cream,PokPoong Games', 'Turtle Rock Studios', 'Twice Circled', 'Twisted Pixel Games', 'Two Tribes', 'Ty Taylor and Mario Castañeda,The Quantum Astrophysicists Guild', 'U-Play Online', 'U.S. Army', 'UBIart Montpellier,Feral Interactive (Mac)', 'Uber Entertainment', 'Ubisoft', 'Ubisoft  Shanghaï', 'Ubisoft - San Francisco', 'Ubisoft Montpellier', 'Ubisoft Montreal', 'Ubisoft Montreal, Massive Entertainment, and Ubisoft Shanghai', 'Ubisoft Montreal, Red Storm, Shanghai, Toronto, Kiev', 'Ubisoft Montréal', 'Ubisoft Paris,Red Storm Entertainment', 'Ubisoft Quebec, in collaboration with Ubisoft Annecy, Bucharest, Kiev, Montreal, Montpellier, Shanghai, Singapore, Sofia, Toronto studios', 'Ubisoft Reflections', 'Ubisoft Romania', 'Ubisoft Sofia', 'Ubisoft Sofia,Ubisoft Kiev', 'Ubisoft Toronto', 'Ultra Runaway Games', 'Ultravision Interactive', 'Undead Labs', 'Underdog Games', 'Unfinished Pixel', 'Unicorn Games Studio', 'Unigine LLC.', 'United Front Games', 'United Front Games,Feral Interactive (Mac)', 'United Independent Entertainment GmbH', 'United Independent Entertainment GmbH,Actalogic', 'Unknown Worlds Entertainment', 'Unwonted Studios', 'Upper One Games,E-Line Media', 'Uppercut Games Pty Ltd', 'Urban Games', 'VIS - Visual Imagination Software', 'VIS Interactive', 'VStep', 'Vae Victis Games', 'Vagabond Dog', 'Valve', 'Vanguard Games', 'Vanguard Games,343 Industries', 'VaragtP', 'Varkian Empire', 'Vblank Entertainment, Inc.', 'Vectorpark, Inc.', 'Vertigo Games', 'Vertigo Gaming Inc.', 'Very Simple Idea Studios', 'Vicious Cycle Software', 'Vicious Cycle Software, Inc.', 'Vifth Floor', 'Vigil Games', 'Ville Mönkkönen,Anne Mönkkönen', 'Vine', 'Virgin Interactive Entertainment,PriitK', 'Virtual Basement LLC,Code Headquarters LLC', 'Virtual Racing Industries Ltd.', 'Visceral Games', 'Visual Concepts', \"Visual Concepts,Yuke's\", 'VisualArts/Key', 'Viswanath Atlu,Laurie Banks,Rohan Bhukan,Nick Burnham,Avinash Kalapala,Yash Kapani,Katharine Marsh,Ankur Rathore,Hardit Singh,Anoop Nihar Srinivas,Ryan Guanyuhao Jiang,Robert Zhu', 'Vitali Kirpu', 'Vivid Games S.A.', 'Vladimir Maslov', 'Vlambeer', 'Vlambeer,Croteam', 'Vogelsap', 'Volition', 'Volition, Inc.', 'Volition,Reactor Zero,THQ Nordic', 'VolumeUp Studios', 'Volumetric Games', 'Vortal Storm', 'Vostok Games', 'Voxler Games', 'WARTEAM', 'WB Games Montreal,Splash Damage', 'WOLCEN Studio', 'WRF Studios', 'WTFOMGames', 'WZOGI', 'Wales Interactive', 'Walter Machado', 'Wanako Games', 'Warfare Studios', 'WarfareSims', 'Warlock Wireless', 'WayForward', 'WayForward,Abstraction Games', 'WeMade', 'Weappy Studio', 'White Rabbit Games', 'WhiteMoon Dreams', 'Wholetone Games', 'Wild Games Studio', 'Wild Shadow Studios', 'WildTangent', 'Wildgrass', 'Windybeard', 'Winter Wolves', 'Wisdom Tree, Inc.', 'Witch Beam', 'With The Love Studios', 'Wizarbox', 'Wolfire Games', 'World-Loom,Nitreal', 'Wube Software LTD.', 'Wyrmbyte', 'X-Bow Software', 'X1 Software,AWAR', 'XGen Studios', 'XLGAMES', 'XYLA Entertainment', 'Xavi Canal, Ben Palgi', 'Xaviant', 'Xtal Sword', 'YFC games', 'YFYX GAMES', 'YOTSUBANE,Adventure Planning Service', 'Yacht Club Games', 'Yager Development', 'Yakiniku Banzai', 'YeaBoing', 'Yeti Trunk', 'Young Horses', 'Yume Creations', 'Z4G0 and Ivan Venturi Productions', 'Zachtronics', 'ZackBellGames', 'Zandel Media', 'Zanrai Interactive', 'Zaratustra Productions', 'Zaxis Games,B-evil', 'Zbigniew Ochman', 'Zeboyd Games', 'Zeiva Inc', 'Zen Studios', 'Zenimax Online Studios', 'Zero Point Software', 'Zero Sum Games', 'Zeroscale', 'Zinertek', 'Zombie Panic Team', 'Zombie Studios', 'Zoo Corporation', 'Zootfly', 'Zoë Mode', 'Zykov Eddy,Xitilon', '[OneManBand]', '[geim].pro', 'app2fun', 'b-Alive', 'b-alive gmbh', 'bitHuffel', 'candyrocketstudio', 'cupholder', 'd3t', 'dobro_slon', 'doublesix', 'electrolyte', 'erobotan', 'exosyphen studios', 'gord10,Aslan Game Studio', 'id Software', 'inXile Entertainment', 'increpare games', 'inner seas', 'isTom Games Kft.', 'kChamp Games', 'kunst-stoff GmbH', 'marbenx', 'minori', 'momoStorm Entertainment', 'nFusion Interactive', 'neko.works', 'ninjalex', 'nornware AB', 'oddonegames', 'practicing01', 'quad games', 'rdt.32', 'roseVeRte', 'souvenir circ.', 'sparsevector', 'stage-nana', 'stillalive studios', 'storm_sharks', 'tamationgames', 'the whale husband', 'tinyBuild', 'tobyfox', 'treeform', 'varlamov5264', 'vidiludi games and entertainment', 'vikingfabian.com', 'webgames', 'xXarabongXx', '△○□× (Miwashiba)', 'インレ,Inre', '橘子班', '高考恋爱委员会,橘子班']\n"
     ]
    },
    {
     "data": {
      "text/plain": [
       "{'Hello Games': ['Negative: 88', 'Neutral: 236', 'Positive: 34']}"
      ]
     },
     "execution_count": 17,
     "metadata": {},
     "output_type": "execute_result"
    }
   ],
   "source": [
    "print(f'Ingresar una de las siguientes empresas para obtener el valor: {lista_empresa}')\n",
    "\n",
    "company = input()\n",
    "\n",
    "sentiment_analysis(company)"
   ]
  }
 ],
 "metadata": {
  "kernelspec": {
   "display_name": "Python 3",
   "language": "python",
   "name": "python3"
  },
  "language_info": {
   "codemirror_mode": {
    "name": "ipython",
    "version": 3
   },
   "file_extension": ".py",
   "mimetype": "text/x-python",
   "name": "python",
   "nbconvert_exporter": "python",
   "pygments_lexer": "ipython3",
   "version": "3.11.7"
  }
 },
 "nbformat": 4,
 "nbformat_minor": 2
}
