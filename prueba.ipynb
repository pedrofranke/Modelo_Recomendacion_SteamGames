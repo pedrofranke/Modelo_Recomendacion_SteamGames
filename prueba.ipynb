{
 "cells": [
  {
   "cell_type": "code",
   "execution_count": 53,
   "metadata": {},
   "outputs": [
    {
     "data": {
      "text/plain": [
       "<module 'funciones_api' from 'c:\\\\Users\\\\pedro\\\\OneDrive\\\\Pedro\\\\Aprender\\\\Cursos\\\\Programacion\\\\Data Science\\\\Soy Henry\\\\Clases\\\\Proyecto Individual I\\\\funciones_api.py'>"
      ]
     },
     "execution_count": 53,
     "metadata": {},
     "output_type": "execute_result"
    }
   ],
   "source": [
    "import funciones_api as fp\n",
    "from importlib import reload\n",
    "import pandas as pd\n",
    "\n",
    "reload(fp)"
   ]
  },
  {
   "cell_type": "code",
   "execution_count": 54,
   "metadata": {},
   "outputs": [
    {
     "data": {
      "text/plain": [
       "{'Año de lanzamiento con más horas jugadas para Género Action': '2012'}"
      ]
     },
     "execution_count": 54,
     "metadata": {},
     "output_type": "execute_result"
    }
   ],
   "source": [
    "fp.PlayTimeGenre('Action')"
   ]
  },
  {
   "cell_type": "code",
   "execution_count": 55,
   "metadata": {},
   "outputs": [
    {
     "data": {
      "text/plain": [
       "{'Usuario con más horas jugadas para Género Action': 'Sp3ctre',\n",
       " 'Horas jugadas': [{'Año: 2017': 'Horas: 722.0'},\n",
       "  {'Año: 2016': 'Horas: 493.0'},\n",
       "  {'Año: 2015': 'Horas: 5125.0'},\n",
       "  {'Año: 2014': 'Horas: 2178.0'},\n",
       "  {'Año: 2013': 'Horas: 2008.0'},\n",
       "  {'Año: 2012': 'Horas: 6305.0'},\n",
       "  {'Año: 2011': 'Horas: 2582.0'},\n",
       "  {'Año: 2010': 'Horas: 1301.0'},\n",
       "  {'Año: 2009': 'Horas: 1805.0'},\n",
       "  {'Año: 2008': 'Horas: 4.0'},\n",
       "  {'Año: 2007': 'Horas: 1880.0'},\n",
       "  {'Año: 2006': 'Horas: 15.0'},\n",
       "  {'Año: 2005': 'Horas: 356.0'},\n",
       "  {'Año: 2004': 'Horas: 2124.0'},\n",
       "  {'Año: 2003': 'Horas: 128.0'},\n",
       "  {'Año: 2002': 'Horas: 4.0'},\n",
       "  {'Año: 2001': 'Horas: 0.0'},\n",
       "  {'Año: 2000': 'Horas: 1177.0'},\n",
       "  {'Año: 1999': 'Horas: 1.0'},\n",
       "  {'Año: 1995': 'Horas: 4.0'}]}"
      ]
     },
     "execution_count": 55,
     "metadata": {},
     "output_type": "execute_result"
    }
   ],
   "source": [
    "fp.UserForGenre('Action')"
   ]
  },
  {
   "cell_type": "code",
   "execution_count": 56,
   "metadata": {},
   "outputs": [
    {
     "data": {
      "text/plain": [
       "[{'Puesto 1': 'Heroes & Generals'},\n",
       " {'Puesto 2': 'SpeedRunners'},\n",
       " {'Puesto 3': \"Don't Starve Together\"}]"
      ]
     },
     "execution_count": 56,
     "metadata": {},
     "output_type": "execute_result"
    }
   ],
   "source": [
    "fp.UsersRecommend(2016)"
   ]
  },
  {
   "cell_type": "code",
   "execution_count": 57,
   "metadata": {},
   "outputs": [
    {
     "data": {
      "text/plain": [
       "[{'Puesto 1': 'Trion Worlds'},\n",
       " {'Puesto 2': 'Treyarch'},\n",
       " {'Puesto 3': 'Rockstar North'}]"
      ]
     },
     "execution_count": 57,
     "metadata": {},
     "output_type": "execute_result"
    }
   ],
   "source": [
    "fp.UsersWorstDeveloper(2015)"
   ]
  },
  {
   "cell_type": "code",
   "execution_count": 58,
   "metadata": {},
   "outputs": [
    {
     "data": {
      "text/plain": [
       "{'Hello Games': ['Negative: 88', 'Neutral: 236', 'Positive: 34']}"
      ]
     },
     "execution_count": 58,
     "metadata": {},
     "output_type": "execute_result"
    }
   ],
   "source": [
    "fp.sentiment_analysis('Hello Games')"
   ]
  },
  {
   "cell_type": "code",
   "execution_count": 59,
   "metadata": {},
   "outputs": [
    {
     "data": {
      "text/plain": [
       "[{'Puesto': 1, 'ID': 8870, 'Nombre': 'BioShock Infinite'},\n",
       " {'Puesto': 2, 'ID': 31220, 'Nombre': 'Sam & Max 301: The Penal Zone'},\n",
       " {'Puesto': 3, 'ID': 417860, 'Nombre': 'Emily is Away'},\n",
       " {'Puesto': 4, 'ID': 238460, 'Nombre': 'BattleBlock Theater'},\n",
       " {'Puesto': 5, 'ID': 253430, 'Nombre': 'CastleMiner Z'}]"
      ]
     },
     "execution_count": 59,
     "metadata": {},
     "output_type": "execute_result"
    }
   ],
   "source": [
    "reload(fp)\n",
    "fp.recomendacion_juego(1250)"
   ]
  },
  {
   "cell_type": "code",
   "execution_count": 60,
   "metadata": {},
   "outputs": [
    {
     "data": {
      "text/plain": [
       "[{'Puesto': 1, 'ID': 1250, 'Nombre': 'Killing Floor'},\n",
       " {'Puesto': 2, 'ID': 320040, 'Nombre': 'Moon Hunters'},\n",
       " {'Puesto': 3, 'ID': 6210, 'Nombre': 'Vegas: Make It Big'},\n",
       " {'Puesto': 4, 'ID': 317040, 'Nombre': 'Strife: Veteran Edition'},\n",
       " {'Puesto': 5, 'ID': 3900, 'Nombre': \"Sid Meier's Civilization IV\"}]"
      ]
     },
     "execution_count": 60,
     "metadata": {},
     "output_type": "execute_result"
    }
   ],
   "source": [
    "fp.recomendacion_usuario('00True')"
   ]
  }
 ],
 "metadata": {
  "kernelspec": {
   "display_name": "Python 3",
   "language": "python",
   "name": "python3"
  },
  "language_info": {
   "codemirror_mode": {
    "name": "ipython",
    "version": 3
   },
   "file_extension": ".py",
   "mimetype": "text/x-python",
   "name": "python",
   "nbconvert_exporter": "python",
   "pygments_lexer": "ipython3",
   "version": "3.11.7"
  }
 },
 "nbformat": 4,
 "nbformat_minor": 2
}
