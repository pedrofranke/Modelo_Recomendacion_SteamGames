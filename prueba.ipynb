{
 "cells": [
  {
   "cell_type": "code",
   "execution_count": 1,
   "metadata": {},
   "outputs": [],
   "source": [
    "import funciones_api as fp\n",
    "from importlib import reload"
   ]
  },
  {
   "cell_type": "code",
   "execution_count": 2,
   "metadata": {},
   "outputs": [
    {
     "data": {
      "text/plain": [
       "{'Año de lanzamiento con más horas jugadas para Género Action': 2012}"
      ]
     },
     "execution_count": 2,
     "metadata": {},
     "output_type": "execute_result"
    }
   ],
   "source": [
    "fp.PlayTimeGenre('Action')"
   ]
  },
  {
   "cell_type": "code",
   "execution_count": 3,
   "metadata": {},
   "outputs": [
    {
     "data": {
      "text/plain": [
       "{'Usuario con más horas jugadas para Género Action': 'Sp3ctre',\n",
       " 'Horas jugadas': [{'Año: 2017': 'Horas: 43327'},\n",
       "  {'Año: 2016': 'Horas: 29576'},\n",
       "  {'Año: 2015': 'Horas: 307511'},\n",
       "  {'Año: 2014': 'Horas: 130691'},\n",
       "  {'Año: 2013': 'Horas: 120461'},\n",
       "  {'Año: 2012': 'Horas: 378296'},\n",
       "  {'Año: 2011': 'Horas: 154896'},\n",
       "  {'Año: 2010': 'Horas: 78083'},\n",
       "  {'Año: 2009': 'Horas: 108326'},\n",
       "  {'Año: 2008': 'Horas: 224'},\n",
       "  {'Año: 2007': 'Horas: 112784'},\n",
       "  {'Año: 2006': 'Horas: 896'},\n",
       "  {'Año: 2005': 'Horas: 21339'},\n",
       "  {'Año: 2004': 'Horas: 127411'},\n",
       "  {'Año: 2003': 'Horas: 7673'},\n",
       "  {'Año: 2002': 'Horas: 238'},\n",
       "  {'Año: 2001': 'Horas: 13'},\n",
       "  {'Año: 2000': 'Horas: 70644'},\n",
       "  {'Año: 1999': 'Horas: 44'},\n",
       "  {'Año: 1995': 'Horas: 217'}]}"
      ]
     },
     "execution_count": 3,
     "metadata": {},
     "output_type": "execute_result"
    }
   ],
   "source": [
    "fp.UserForGenre('Action')"
   ]
  },
  {
   "cell_type": "code",
   "execution_count": 4,
   "metadata": {},
   "outputs": [
    {
     "data": {
      "text/plain": [
       "[{'Puesto 1': 'Heroes & Generals'},\n",
       " {'Puesto 2': 'SpeedRunners'},\n",
       " {'Puesto 3': \"Don't Starve Together\"}]"
      ]
     },
     "execution_count": 4,
     "metadata": {},
     "output_type": "execute_result"
    }
   ],
   "source": [
    "fp.UsersRecommend(2016)"
   ]
  },
  {
   "cell_type": "code",
   "execution_count": 5,
   "metadata": {},
   "outputs": [
    {
     "data": {
      "text/plain": [
       "[{'Puesto 1': 'Trion Worlds'},\n",
       " {'Puesto 2': 'Treyarch'},\n",
       " {'Puesto 3': 'Rockstar North'}]"
      ]
     },
     "execution_count": 5,
     "metadata": {},
     "output_type": "execute_result"
    }
   ],
   "source": [
    "fp.UsersWorstDeveloper(2015)"
   ]
  },
  {
   "cell_type": "code",
   "execution_count": 6,
   "metadata": {},
   "outputs": [
    {
     "data": {
      "text/plain": [
       "{'Hello Games': ['Negative: 88', 'Neutral: 236', 'Positive: 34']}"
      ]
     },
     "execution_count": 6,
     "metadata": {},
     "output_type": "execute_result"
    }
   ],
   "source": [
    "fp.sentiment_analysis('Hello Games')"
   ]
  },
  {
   "cell_type": "code",
   "execution_count": 9,
   "metadata": {},
   "outputs": [
    {
     "name": "stdout",
     "output_type": "stream",
     "text": [
      "Los Juegos similares a ID juego 1250, nombre Killing Floor son:\n",
      "\n",
      "No. 1: ID 232090, nombre Killing Floor 2\n",
      "No. 2: ID 351570, nombre Killing Floor: Uncovered\n",
      "No. 3: ID 35420, nombre Killing Floor Mod: Defence Alliance 2\n",
      "No. 4: ID 521430, nombre Super Switch\n",
      "No. 5: ID 13250, nombre Unreal Gold\n"
     ]
    }
   ],
   "source": [
    "reload(fp)\n",
    "fp.recomendacion_juego(1250)"
   ]
  },
  {
   "cell_type": "code",
   "execution_count": 10,
   "metadata": {},
   "outputs": [
    {
     "name": "stdout",
     "output_type": "stream",
     "text": [
      "Los juegos mas recomendados segun usuarios relacionados para el usuario -2SV-vuLB-Kg son:\n",
      "\n",
      "No. 1: Counter-Strike: Global Offensive\n",
      "No. 2: Garry's Mod\n",
      "No. 3: Left 4 Dead 2\n",
      "No. 4: Portal 2\n",
      "No. 5: Borderlands 2\n"
     ]
    }
   ],
   "source": [
    "fp.recomendacion_usuario('-2SV-vuLB-Kg')"
   ]
  }
 ],
 "metadata": {
  "kernelspec": {
   "display_name": "Python 3",
   "language": "python",
   "name": "python3"
  },
  "language_info": {
   "codemirror_mode": {
    "name": "ipython",
    "version": 3
   },
   "file_extension": ".py",
   "mimetype": "text/x-python",
   "name": "python",
   "nbconvert_exporter": "python",
   "pygments_lexer": "ipython3",
   "version": "3.11.7"
  }
 },
 "nbformat": 4,
 "nbformat_minor": 2
}
